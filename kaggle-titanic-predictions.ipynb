{
 "cells": [
  {
   "cell_type": "code",
   "execution_count": 1,
   "id": "2274a870",
   "metadata": {
    "_cell_guid": "b1076dfc-b9ad-4769-8c92-a6c4dae69d19",
    "_uuid": "8f2839f25d086af736a60e9eeb907d3b93b6e0e5",
    "execution": {
     "iopub.execute_input": "2024-11-11T05:44:21.619312Z",
     "iopub.status.busy": "2024-11-11T05:44:21.618770Z",
     "iopub.status.idle": "2024-11-11T05:44:22.655798Z",
     "shell.execute_reply": "2024-11-11T05:44:22.653765Z"
    },
    "papermill": {
     "duration": 1.04968,
     "end_time": "2024-11-11T05:44:22.658696",
     "exception": false,
     "start_time": "2024-11-11T05:44:21.609016",
     "status": "completed"
    },
    "tags": []
   },
   "outputs": [
    {
     "name": "stdout",
     "output_type": "stream",
     "text": [
      "/kaggle/input/titanic/train.csv\n",
      "/kaggle/input/titanic/test.csv\n",
      "/kaggle/input/titanic/gender_submission.csv\n"
     ]
    }
   ],
   "source": [
    "# This Python 3 environment comes with many helpful analytics libraries installed\n",
    "# It is defined by the kaggle/python Docker image: https://github.com/kaggle/docker-python\n",
    "# For example, here's several helpful packages to load\n",
    "\n",
    "import numpy as np # linear algebra\n",
    "import pandas as pd # data processing, CSV file I/O (e.g. pd.read_csv)\n",
    "\n",
    "# Input data files are available in the read-only \"../input/\" directory\n",
    "# For example, running this (by clicking run or pressing Shift+Enter) will list all files under the input directory\n",
    "\n",
    "import os\n",
    "for dirname, _, filenames in os.walk('/kaggle/input'):\n",
    "    for filename in filenames:\n",
    "        print(os.path.join(dirname, filename))\n",
    "\n",
    "# You can write up to 20GB to the current directory (/kaggle/working/) that gets preserved as output when you create a version using \"Save & Run All\" \n",
    "# You can also write temporary files to /kaggle/temp/, but they won't be saved outside of the current session"
   ]
  },
  {
   "cell_type": "markdown",
   "id": "0785d42a",
   "metadata": {
    "papermill": {
     "duration": 0.007096,
     "end_time": "2024-11-11T05:44:22.674370",
     "exception": false,
     "start_time": "2024-11-11T05:44:22.667274",
     "status": "completed"
    },
    "tags": []
   },
   "source": [
    "## Load Training Data"
   ]
  },
  {
   "cell_type": "code",
   "execution_count": 2,
   "id": "3d4ca031",
   "metadata": {
    "execution": {
     "iopub.execute_input": "2024-11-11T05:44:22.691887Z",
     "iopub.status.busy": "2024-11-11T05:44:22.690716Z",
     "iopub.status.idle": "2024-11-11T05:44:22.737396Z",
     "shell.execute_reply": "2024-11-11T05:44:22.736250Z"
    },
    "papermill": {
     "duration": 0.058521,
     "end_time": "2024-11-11T05:44:22.740157",
     "exception": false,
     "start_time": "2024-11-11T05:44:22.681636",
     "status": "completed"
    },
    "tags": []
   },
   "outputs": [
    {
     "data": {
      "text/html": [
       "<div>\n",
       "<style scoped>\n",
       "    .dataframe tbody tr th:only-of-type {\n",
       "        vertical-align: middle;\n",
       "    }\n",
       "\n",
       "    .dataframe tbody tr th {\n",
       "        vertical-align: top;\n",
       "    }\n",
       "\n",
       "    .dataframe thead th {\n",
       "        text-align: right;\n",
       "    }\n",
       "</style>\n",
       "<table border=\"1\" class=\"dataframe\">\n",
       "  <thead>\n",
       "    <tr style=\"text-align: right;\">\n",
       "      <th></th>\n",
       "      <th>PassengerId</th>\n",
       "      <th>Survived</th>\n",
       "      <th>Pclass</th>\n",
       "      <th>Name</th>\n",
       "      <th>Sex</th>\n",
       "      <th>Age</th>\n",
       "      <th>SibSp</th>\n",
       "      <th>Parch</th>\n",
       "      <th>Ticket</th>\n",
       "      <th>Fare</th>\n",
       "      <th>Cabin</th>\n",
       "      <th>Embarked</th>\n",
       "    </tr>\n",
       "  </thead>\n",
       "  <tbody>\n",
       "    <tr>\n",
       "      <th>0</th>\n",
       "      <td>1</td>\n",
       "      <td>0</td>\n",
       "      <td>3</td>\n",
       "      <td>Braund, Mr. Owen Harris</td>\n",
       "      <td>male</td>\n",
       "      <td>22.0</td>\n",
       "      <td>1</td>\n",
       "      <td>0</td>\n",
       "      <td>A/5 21171</td>\n",
       "      <td>7.2500</td>\n",
       "      <td>NaN</td>\n",
       "      <td>S</td>\n",
       "    </tr>\n",
       "    <tr>\n",
       "      <th>1</th>\n",
       "      <td>2</td>\n",
       "      <td>1</td>\n",
       "      <td>1</td>\n",
       "      <td>Cumings, Mrs. John Bradley (Florence Briggs Th...</td>\n",
       "      <td>female</td>\n",
       "      <td>38.0</td>\n",
       "      <td>1</td>\n",
       "      <td>0</td>\n",
       "      <td>PC 17599</td>\n",
       "      <td>71.2833</td>\n",
       "      <td>C85</td>\n",
       "      <td>C</td>\n",
       "    </tr>\n",
       "    <tr>\n",
       "      <th>2</th>\n",
       "      <td>3</td>\n",
       "      <td>1</td>\n",
       "      <td>3</td>\n",
       "      <td>Heikkinen, Miss. Laina</td>\n",
       "      <td>female</td>\n",
       "      <td>26.0</td>\n",
       "      <td>0</td>\n",
       "      <td>0</td>\n",
       "      <td>STON/O2. 3101282</td>\n",
       "      <td>7.9250</td>\n",
       "      <td>NaN</td>\n",
       "      <td>S</td>\n",
       "    </tr>\n",
       "    <tr>\n",
       "      <th>3</th>\n",
       "      <td>4</td>\n",
       "      <td>1</td>\n",
       "      <td>1</td>\n",
       "      <td>Futrelle, Mrs. Jacques Heath (Lily May Peel)</td>\n",
       "      <td>female</td>\n",
       "      <td>35.0</td>\n",
       "      <td>1</td>\n",
       "      <td>0</td>\n",
       "      <td>113803</td>\n",
       "      <td>53.1000</td>\n",
       "      <td>C123</td>\n",
       "      <td>S</td>\n",
       "    </tr>\n",
       "    <tr>\n",
       "      <th>4</th>\n",
       "      <td>5</td>\n",
       "      <td>0</td>\n",
       "      <td>3</td>\n",
       "      <td>Allen, Mr. William Henry</td>\n",
       "      <td>male</td>\n",
       "      <td>35.0</td>\n",
       "      <td>0</td>\n",
       "      <td>0</td>\n",
       "      <td>373450</td>\n",
       "      <td>8.0500</td>\n",
       "      <td>NaN</td>\n",
       "      <td>S</td>\n",
       "    </tr>\n",
       "  </tbody>\n",
       "</table>\n",
       "</div>"
      ],
      "text/plain": [
       "   PassengerId  Survived  Pclass  \\\n",
       "0            1         0       3   \n",
       "1            2         1       1   \n",
       "2            3         1       3   \n",
       "3            4         1       1   \n",
       "4            5         0       3   \n",
       "\n",
       "                                                Name     Sex   Age  SibSp  \\\n",
       "0                            Braund, Mr. Owen Harris    male  22.0      1   \n",
       "1  Cumings, Mrs. John Bradley (Florence Briggs Th...  female  38.0      1   \n",
       "2                             Heikkinen, Miss. Laina  female  26.0      0   \n",
       "3       Futrelle, Mrs. Jacques Heath (Lily May Peel)  female  35.0      1   \n",
       "4                           Allen, Mr. William Henry    male  35.0      0   \n",
       "\n",
       "   Parch            Ticket     Fare Cabin Embarked  \n",
       "0      0         A/5 21171   7.2500   NaN        S  \n",
       "1      0          PC 17599  71.2833   C85        C  \n",
       "2      0  STON/O2. 3101282   7.9250   NaN        S  \n",
       "3      0            113803  53.1000  C123        S  \n",
       "4      0            373450   8.0500   NaN        S  "
      ]
     },
     "execution_count": 2,
     "metadata": {},
     "output_type": "execute_result"
    }
   ],
   "source": [
    "train_data = pd.read_csv(\"/kaggle/input/titanic/train.csv\")\n",
    "\n",
    "train_data.head()\n"
   ]
  },
  {
   "cell_type": "markdown",
   "id": "cfe4cdaa",
   "metadata": {
    "papermill": {
     "duration": 0.007639,
     "end_time": "2024-11-11T05:44:22.755839",
     "exception": false,
     "start_time": "2024-11-11T05:44:22.748200",
     "status": "completed"
    },
    "tags": []
   },
   "source": [
    "## Data Manipulation"
   ]
  },
  {
   "cell_type": "code",
   "execution_count": 3,
   "id": "2b31e994",
   "metadata": {
    "execution": {
     "iopub.execute_input": "2024-11-11T05:44:22.774214Z",
     "iopub.status.busy": "2024-11-11T05:44:22.773425Z",
     "iopub.status.idle": "2024-11-11T05:44:22.799337Z",
     "shell.execute_reply": "2024-11-11T05:44:22.798134Z"
    },
    "papermill": {
     "duration": 0.037768,
     "end_time": "2024-11-11T05:44:22.801937",
     "exception": false,
     "start_time": "2024-11-11T05:44:22.764169",
     "status": "completed"
    },
    "tags": []
   },
   "outputs": [
    {
     "data": {
      "text/html": [
       "<div>\n",
       "<style scoped>\n",
       "    .dataframe tbody tr th:only-of-type {\n",
       "        vertical-align: middle;\n",
       "    }\n",
       "\n",
       "    .dataframe tbody tr th {\n",
       "        vertical-align: top;\n",
       "    }\n",
       "\n",
       "    .dataframe thead th {\n",
       "        text-align: right;\n",
       "    }\n",
       "</style>\n",
       "<table border=\"1\" class=\"dataframe\">\n",
       "  <thead>\n",
       "    <tr style=\"text-align: right;\">\n",
       "      <th></th>\n",
       "      <th>PassengerId</th>\n",
       "      <th>Survived</th>\n",
       "      <th>Pclass</th>\n",
       "      <th>Name</th>\n",
       "      <th>Sex</th>\n",
       "      <th>Age</th>\n",
       "      <th>SibSp</th>\n",
       "      <th>Parch</th>\n",
       "      <th>Ticket</th>\n",
       "      <th>Fare</th>\n",
       "      <th>Cabin</th>\n",
       "      <th>Embarked</th>\n",
       "      <th>Mrs</th>\n",
       "      <th>Mr</th>\n",
       "    </tr>\n",
       "  </thead>\n",
       "  <tbody>\n",
       "    <tr>\n",
       "      <th>0</th>\n",
       "      <td>1</td>\n",
       "      <td>0</td>\n",
       "      <td>3</td>\n",
       "      <td>Braund, Mr. Owen Harris</td>\n",
       "      <td>male</td>\n",
       "      <td>22.0</td>\n",
       "      <td>1</td>\n",
       "      <td>0</td>\n",
       "      <td>A/5 21171</td>\n",
       "      <td>7.2500</td>\n",
       "      <td>NaN</td>\n",
       "      <td>S</td>\n",
       "      <td>False</td>\n",
       "      <td>True</td>\n",
       "    </tr>\n",
       "    <tr>\n",
       "      <th>1</th>\n",
       "      <td>2</td>\n",
       "      <td>1</td>\n",
       "      <td>1</td>\n",
       "      <td>Cumings, Mrs. John Bradley (Florence Briggs Th...</td>\n",
       "      <td>female</td>\n",
       "      <td>38.0</td>\n",
       "      <td>1</td>\n",
       "      <td>0</td>\n",
       "      <td>PC 17599</td>\n",
       "      <td>71.2833</td>\n",
       "      <td>C85</td>\n",
       "      <td>C</td>\n",
       "      <td>True</td>\n",
       "      <td>False</td>\n",
       "    </tr>\n",
       "    <tr>\n",
       "      <th>2</th>\n",
       "      <td>3</td>\n",
       "      <td>1</td>\n",
       "      <td>3</td>\n",
       "      <td>Heikkinen, Miss. Laina</td>\n",
       "      <td>female</td>\n",
       "      <td>26.0</td>\n",
       "      <td>0</td>\n",
       "      <td>0</td>\n",
       "      <td>STON/O2. 3101282</td>\n",
       "      <td>7.9250</td>\n",
       "      <td>NaN</td>\n",
       "      <td>S</td>\n",
       "      <td>False</td>\n",
       "      <td>False</td>\n",
       "    </tr>\n",
       "    <tr>\n",
       "      <th>3</th>\n",
       "      <td>4</td>\n",
       "      <td>1</td>\n",
       "      <td>1</td>\n",
       "      <td>Futrelle, Mrs. Jacques Heath (Lily May Peel)</td>\n",
       "      <td>female</td>\n",
       "      <td>35.0</td>\n",
       "      <td>1</td>\n",
       "      <td>0</td>\n",
       "      <td>113803</td>\n",
       "      <td>53.1000</td>\n",
       "      <td>C123</td>\n",
       "      <td>S</td>\n",
       "      <td>True</td>\n",
       "      <td>False</td>\n",
       "    </tr>\n",
       "    <tr>\n",
       "      <th>4</th>\n",
       "      <td>5</td>\n",
       "      <td>0</td>\n",
       "      <td>3</td>\n",
       "      <td>Allen, Mr. William Henry</td>\n",
       "      <td>male</td>\n",
       "      <td>35.0</td>\n",
       "      <td>0</td>\n",
       "      <td>0</td>\n",
       "      <td>373450</td>\n",
       "      <td>8.0500</td>\n",
       "      <td>NaN</td>\n",
       "      <td>S</td>\n",
       "      <td>False</td>\n",
       "      <td>True</td>\n",
       "    </tr>\n",
       "  </tbody>\n",
       "</table>\n",
       "</div>"
      ],
      "text/plain": [
       "   PassengerId  Survived  Pclass  \\\n",
       "0            1         0       3   \n",
       "1            2         1       1   \n",
       "2            3         1       3   \n",
       "3            4         1       1   \n",
       "4            5         0       3   \n",
       "\n",
       "                                                Name     Sex   Age  SibSp  \\\n",
       "0                            Braund, Mr. Owen Harris    male  22.0      1   \n",
       "1  Cumings, Mrs. John Bradley (Florence Briggs Th...  female  38.0      1   \n",
       "2                             Heikkinen, Miss. Laina  female  26.0      0   \n",
       "3       Futrelle, Mrs. Jacques Heath (Lily May Peel)  female  35.0      1   \n",
       "4                           Allen, Mr. William Henry    male  35.0      0   \n",
       "\n",
       "   Parch            Ticket     Fare Cabin Embarked    Mrs     Mr  \n",
       "0      0         A/5 21171   7.2500   NaN        S  False   True  \n",
       "1      0          PC 17599  71.2833   C85        C   True  False  \n",
       "2      0  STON/O2. 3101282   7.9250   NaN        S  False  False  \n",
       "3      0            113803  53.1000  C123        S   True  False  \n",
       "4      0            373450   8.0500   NaN        S  False   True  "
      ]
     },
     "execution_count": 3,
     "metadata": {},
     "output_type": "execute_result"
    }
   ],
   "source": [
    "def wrangle_data(df):\n",
    "    df = df.assign(Mrs = df[\"Name\"].str.contains(\"Mrs. \", case=False))\n",
    "    df = df.assign(Mr = df[\"Name\"].str.contains(\"Mr. \", case=False))\n",
    "    return df\n",
    "    \n",
    "train_data = wrangle_data(train_data)\n",
    "train_data.head()\n"
   ]
  },
  {
   "cell_type": "markdown",
   "id": "3e629b87",
   "metadata": {
    "papermill": {
     "duration": 0.008919,
     "end_time": "2024-11-11T05:44:22.818959",
     "exception": false,
     "start_time": "2024-11-11T05:44:22.810040",
     "status": "completed"
    },
    "tags": []
   },
   "source": [
    "## Split Data"
   ]
  },
  {
   "cell_type": "code",
   "execution_count": 4,
   "id": "afa74c67",
   "metadata": {
    "execution": {
     "iopub.execute_input": "2024-11-11T05:44:22.837083Z",
     "iopub.status.busy": "2024-11-11T05:44:22.836592Z",
     "iopub.status.idle": "2024-11-11T05:44:24.384798Z",
     "shell.execute_reply": "2024-11-11T05:44:24.383475Z"
    },
    "papermill": {
     "duration": 1.560473,
     "end_time": "2024-11-11T05:44:24.387534",
     "exception": false,
     "start_time": "2024-11-11T05:44:22.827061",
     "status": "completed"
    },
    "tags": []
   },
   "outputs": [],
   "source": [
    "from sklearn.model_selection import train_test_split\n",
    "\n",
    "y = train_data[\"Survived\"]\n",
    "\n",
    "features = [\"Pclass\", \"Sex\", \"Age\", \"SibSp\", \"Parch\", \"Fare\", \"Embarked\", \"Mrs\", \"Mr\"]\n",
    "X = train_data[features]\n",
    "\n",
    "X_train, X_val, y_train, y_val = train_test_split(X, y, random_state=123)\n"
   ]
  },
  {
   "cell_type": "markdown",
   "id": "8619c0f2",
   "metadata": {
    "papermill": {
     "duration": 0.007635,
     "end_time": "2024-11-11T05:44:24.403315",
     "exception": false,
     "start_time": "2024-11-11T05:44:24.395680",
     "status": "completed"
    },
    "tags": []
   },
   "source": [
    "## Missing Values\n",
    "\n",
    "We can see age has 177 missing values, Cabin 687, and Embarked 2 so these are the colunms we will want to look at closer. "
   ]
  },
  {
   "cell_type": "code",
   "execution_count": 5,
   "id": "f825f697",
   "metadata": {
    "execution": {
     "iopub.execute_input": "2024-11-11T05:44:24.421405Z",
     "iopub.status.busy": "2024-11-11T05:44:24.420834Z",
     "iopub.status.idle": "2024-11-11T05:44:24.430999Z",
     "shell.execute_reply": "2024-11-11T05:44:24.429003Z"
    },
    "papermill": {
     "duration": 0.02284,
     "end_time": "2024-11-11T05:44:24.434118",
     "exception": false,
     "start_time": "2024-11-11T05:44:24.411278",
     "status": "completed"
    },
    "tags": []
   },
   "outputs": [
    {
     "name": "stdout",
     "output_type": "stream",
     "text": [
      "Pclass        0\n",
      "Sex           0\n",
      "Age         139\n",
      "SibSp         0\n",
      "Parch         0\n",
      "Fare          0\n",
      "Embarked      2\n",
      "Mrs           0\n",
      "Mr            0\n",
      "dtype: int64\n"
     ]
    }
   ],
   "source": [
    "print(X_train.isnull().sum())\n"
   ]
  },
  {
   "cell_type": "markdown",
   "id": "b1ff7c11",
   "metadata": {
    "papermill": {
     "duration": 0.007935,
     "end_time": "2024-11-11T05:44:24.452018",
     "exception": false,
     "start_time": "2024-11-11T05:44:24.444083",
     "status": "completed"
    },
    "tags": []
   },
   "source": [
    "## Age \n",
    "\n",
    "From the plot below we can see there is some skewness  in the distributions of Age so I am going to fill missing values using the median."
   ]
  },
  {
   "cell_type": "code",
   "execution_count": 6,
   "id": "ff724c87",
   "metadata": {
    "execution": {
     "iopub.execute_input": "2024-11-11T05:44:24.470796Z",
     "iopub.status.busy": "2024-11-11T05:44:24.470317Z",
     "iopub.status.idle": "2024-11-11T05:44:25.548061Z",
     "shell.execute_reply": "2024-11-11T05:44:25.546757Z"
    },
    "papermill": {
     "duration": 1.09017,
     "end_time": "2024-11-11T05:44:25.550554",
     "exception": false,
     "start_time": "2024-11-11T05:44:24.460384",
     "status": "completed"
    },
    "tags": []
   },
   "outputs": [
    {
     "name": "stderr",
     "output_type": "stream",
     "text": [
      "/opt/conda/lib/python3.10/site-packages/seaborn/_oldcore.py:1119: FutureWarning: use_inf_as_na option is deprecated and will be removed in a future version. Convert inf values to NaN before operating instead.\n",
      "  with pd.option_context('mode.use_inf_as_na', True):\n"
     ]
    },
    {
     "data": {
      "text/plain": [
       "<Axes: title={'center': 'Distribution of Ages in Training Data'}, xlabel='Age', ylabel='Count'>"
      ]
     },
     "execution_count": 6,
     "metadata": {},
     "output_type": "execute_result"
    },
    {
     "data": {
      "image/png": "[encoded data removed]",
      "text/plain": [
       "<Figure size 640x480 with 1 Axes>"
      ]
     },
     "metadata": {},
     "output_type": "display_data"
    }
   ],
   "source": [
    "import matplotlib.pyplot as plt\n",
    "import seaborn as sns\n",
    "\n",
    "plt.figure()\n",
    "plt.title(\"Distribution of Ages in Training Data\")\n",
    "sns.histplot(train_data[\"Age\"].dropna(), bins=11)\n"
   ]
  },
  {
   "cell_type": "markdown",
   "id": "fdab00d0",
   "metadata": {
    "papermill": {
     "duration": 0.008564,
     "end_time": "2024-11-11T05:44:25.568018",
     "exception": false,
     "start_time": "2024-11-11T05:44:25.559454",
     "status": "completed"
    },
    "tags": []
   },
   "source": [
    "## Fill Missing"
   ]
  },
  {
   "cell_type": "code",
   "execution_count": 7,
   "id": "46b3999f",
   "metadata": {
    "execution": {
     "iopub.execute_input": "2024-11-11T05:44:25.588548Z",
     "iopub.status.busy": "2024-11-11T05:44:25.587946Z",
     "iopub.status.idle": "2024-11-11T05:44:25.603189Z",
     "shell.execute_reply": "2024-11-11T05:44:25.601948Z"
    },
    "papermill": {
     "duration": 0.02856,
     "end_time": "2024-11-11T05:44:25.605950",
     "exception": false,
     "start_time": "2024-11-11T05:44:25.577390",
     "status": "completed"
    },
    "tags": []
   },
   "outputs": [],
   "source": [
    "# Get fill values\n",
    "median_age = X_train[\"Age\"].median()\n",
    "most_freq_embark = X_train[\"Embarked\"].mode()[0]\n",
    "\n",
    "# Fill missing\n",
    "X_train.loc[:, \"Age\"] = X_train[\"Age\"].fillna(median_age)\n",
    "X_train.loc[:, \"Embarked\"] = X_train[\"Embarked\"].fillna(most_freq_embark)\n",
    "X_val.loc[:, \"Age\"] = X_val[\"Age\"].fillna(median_age)\n"
   ]
  },
  {
   "cell_type": "markdown",
   "id": "9c43f60f",
   "metadata": {
    "papermill": {
     "duration": 0.008573,
     "end_time": "2024-11-11T05:44:25.623420",
     "exception": false,
     "start_time": "2024-11-11T05:44:25.614847",
     "status": "completed"
    },
    "tags": []
   },
   "source": [
    "## Model Selection"
   ]
  },
  {
   "cell_type": "code",
   "execution_count": 8,
   "id": "a5c96a6b",
   "metadata": {
    "execution": {
     "iopub.execute_input": "2024-11-11T05:44:25.642899Z",
     "iopub.status.busy": "2024-11-11T05:44:25.642453Z",
     "iopub.status.idle": "2024-11-11T05:44:25.928455Z",
     "shell.execute_reply": "2024-11-11T05:44:25.927097Z"
    },
    "papermill": {
     "duration": 0.299145,
     "end_time": "2024-11-11T05:44:25.931386",
     "exception": false,
     "start_time": "2024-11-11T05:44:25.632241",
     "status": "completed"
    },
    "tags": []
   },
   "outputs": [],
   "source": [
    "from sklearn.ensemble import RandomForestClassifier\n",
    "from sklearn.metrics import f1_score\n",
    "\n",
    "X_train_dummies = pd.get_dummies(X_train)\n",
    "X_val_dummies = pd.get_dummies(X_val)\n"
   ]
  },
  {
   "cell_type": "code",
   "execution_count": 9,
   "id": "a685de4a",
   "metadata": {
    "execution": {
     "iopub.execute_input": "2024-11-11T05:44:25.951166Z",
     "iopub.status.busy": "2024-11-11T05:44:25.950696Z",
     "iopub.status.idle": "2024-11-11T05:44:33.673346Z",
     "shell.execute_reply": "2024-11-11T05:44:33.672002Z"
    },
    "papermill": {
     "duration": 7.735772,
     "end_time": "2024-11-11T05:44:33.676174",
     "exception": false,
     "start_time": "2024-11-11T05:44:25.940402",
     "status": "completed"
    },
    "tags": []
   },
   "outputs": [
    {
     "name": "stdout",
     "output_type": "stream",
     "text": [
      "50 0.8\n",
      "100 0.8\n",
      "150 0.8074534161490684\n",
      "200 0.8\n",
      "250 0.8074534161490684\n",
      "300 0.8074534161490684\n",
      "350 0.8\n",
      "400 0.8074534161490684\n",
      "450 0.8024691358024691\n",
      "500 0.8074534161490684\n"
     ]
    }
   ],
   "source": [
    "for i in range(50, 550, 50):\n",
    "    model = RandomForestClassifier(n_estimators=i, max_depth=10, random_state=123)\n",
    "    model.fit(X_train_dummies, y_train)\n",
    "    train_predictions = model.predict(X_val_dummies)\n",
    "    print(i, f1_score(y_val, train_predictions))"
   ]
  },
  {
   "cell_type": "code",
   "execution_count": 10,
   "id": "2c9d355f",
   "metadata": {
    "execution": {
     "iopub.execute_input": "2024-11-11T05:44:33.697404Z",
     "iopub.status.busy": "2024-11-11T05:44:33.696989Z",
     "iopub.status.idle": "2024-11-11T05:44:52.366289Z",
     "shell.execute_reply": "2024-11-11T05:44:52.364522Z"
    },
    "papermill": {
     "duration": 18.683192,
     "end_time": "2024-11-11T05:44:52.369164",
     "exception": false,
     "start_time": "2024-11-11T05:44:33.685972",
     "status": "completed"
    },
    "tags": []
   },
   "outputs": [
    {
     "name": "stdout",
     "output_type": "stream",
     "text": [
      "5 0.7770700636942677\n",
      "6 0.7692307692307692\n",
      "7 0.7547169811320756\n",
      "8 0.7924528301886793\n",
      "9 0.8125\n",
      "10 0.8024691358024691\n",
      "11 0.7975460122699387\n",
      "12 0.7975460122699387\n",
      "13 0.7926829268292684\n",
      "14 0.7738095238095238\n",
      "15 0.7692307692307693\n",
      "16 0.760233918128655\n",
      "17 0.760233918128655\n",
      "18 0.760233918128655\n",
      "19 0.760233918128655\n"
     ]
    }
   ],
   "source": [
    "for i in range(5, 20, 1):\n",
    "    model = RandomForestClassifier(n_estimators=450, max_depth=i, random_state=123)\n",
    "    model.fit(X_train_dummies, y_train)\n",
    "    train_predictions = model.predict(X_val_dummies)\n",
    "    print(i, f1_score(y_val, train_predictions))"
   ]
  },
  {
   "cell_type": "markdown",
   "id": "c78b1e13",
   "metadata": {
    "papermill": {
     "duration": 0.010843,
     "end_time": "2024-11-11T05:44:52.391254",
     "exception": false,
     "start_time": "2024-11-11T05:44:52.380411",
     "status": "completed"
    },
    "tags": []
   },
   "source": [
    "## Clean Data"
   ]
  },
  {
   "cell_type": "code",
   "execution_count": 11,
   "id": "c03e4dbb",
   "metadata": {
    "execution": {
     "iopub.execute_input": "2024-11-11T05:44:52.415537Z",
     "iopub.status.busy": "2024-11-11T05:44:52.414951Z",
     "iopub.status.idle": "2024-11-11T05:44:52.452001Z",
     "shell.execute_reply": "2024-11-11T05:44:52.450129Z"
    },
    "papermill": {
     "duration": 0.052565,
     "end_time": "2024-11-11T05:44:52.454914",
     "exception": false,
     "start_time": "2024-11-11T05:44:52.402349",
     "status": "completed"
    },
    "tags": []
   },
   "outputs": [
    {
     "name": "stdout",
     "output_type": "stream",
     "text": [
      "PassengerId      0\n",
      "Pclass           0\n",
      "Name             0\n",
      "Sex              0\n",
      "Age             86\n",
      "SibSp            0\n",
      "Parch            0\n",
      "Ticket           0\n",
      "Fare             1\n",
      "Cabin          327\n",
      "Embarked         0\n",
      "Mrs              0\n",
      "Mr               0\n",
      "dtype: int64\n"
     ]
    }
   ],
   "source": [
    "# Load testing data\n",
    "test_data = pd.read_csv(\"/kaggle/input/titanic/test.csv\")\n",
    "test_data = wrangle_data(test_data)\n",
    "print(test_data.isnull().sum())\n",
    "\n",
    "# Get fill values\n",
    "medan_fare = X[\"Fare\"].median()\n",
    "median_age = X[\"Age\"].median()\n",
    "most_freq_embark = X[\"Embarked\"].mode()[0]\n",
    "\n",
    "# Fill missing\n",
    "X.loc[:, \"Age\"] = X[\"Age\"].fillna(median_age)\n",
    "X.loc[:, \"Embarked\"] = X[\"Embarked\"].fillna(most_freq_embark)\n",
    "test_data.loc[:, \"Age\"] = test_data[\"Age\"].fillna(median_age)\n",
    "test_data.loc[:, \"Fare\"] = test_data[\"Fare\"].fillna(medan_fare)\n",
    "\n",
    "\n",
    "X_dumies = pd.get_dummies(X)\n",
    "test_data_dummies = pd.get_dummies(test_data[features])\n",
    "\n"
   ]
  },
  {
   "cell_type": "markdown",
   "id": "bc5e34e2",
   "metadata": {
    "papermill": {
     "duration": 0.010979,
     "end_time": "2024-11-11T05:44:52.477932",
     "exception": false,
     "start_time": "2024-11-11T05:44:52.466953",
     "status": "completed"
    },
    "tags": []
   },
   "source": [
    "## Final Model"
   ]
  },
  {
   "cell_type": "code",
   "execution_count": 12,
   "id": "65a52229",
   "metadata": {
    "execution": {
     "iopub.execute_input": "2024-11-11T05:44:52.502549Z",
     "iopub.status.busy": "2024-11-11T05:44:52.502085Z",
     "iopub.status.idle": "2024-11-11T05:44:53.768303Z",
     "shell.execute_reply": "2024-11-11T05:44:53.766802Z"
    },
    "papermill": {
     "duration": 1.282331,
     "end_time": "2024-11-11T05:44:53.771441",
     "exception": false,
     "start_time": "2024-11-11T05:44:52.489110",
     "status": "completed"
    },
    "tags": []
   },
   "outputs": [
    {
     "name": "stdout",
     "output_type": "stream",
     "text": [
      "Final Model has 450 estimators and a max depth of 9\n"
     ]
    }
   ],
   "source": [
    "final_model = RandomForestClassifier(n_estimators=450, max_depth=9, random_state=123)\n",
    "final_model.fit(X_dumies, y)\n",
    "\n",
    "print(\"Final Model has 450 estimators and a max depth of 9\")"
   ]
  },
  {
   "cell_type": "markdown",
   "id": "bb33d632",
   "metadata": {
    "papermill": {
     "duration": 0.011578,
     "end_time": "2024-11-11T05:44:53.795862",
     "exception": false,
     "start_time": "2024-11-11T05:44:53.784284",
     "status": "completed"
    },
    "tags": []
   },
   "source": [
    "## Final Predictions"
   ]
  },
  {
   "cell_type": "code",
   "execution_count": 13,
   "id": "0ea29971",
   "metadata": {
    "execution": {
     "iopub.execute_input": "2024-11-11T05:44:53.821783Z",
     "iopub.status.busy": "2024-11-11T05:44:53.821281Z",
     "iopub.status.idle": "2024-11-11T05:44:53.892061Z",
     "shell.execute_reply": "2024-11-11T05:44:53.890780Z"
    },
    "papermill": {
     "duration": 0.086913,
     "end_time": "2024-11-11T05:44:53.895133",
     "exception": false,
     "start_time": "2024-11-11T05:44:53.808220",
     "status": "completed"
    },
    "tags": []
   },
   "outputs": [],
   "source": [
    "predictions = final_model.predict(test_data_dummies)\n",
    "\n",
    "output = pd.DataFrame({'PassengerId' : test_data.PassengerId, 'Survived': predictions})\n",
    "\n",
    "output.to_csv('submission.csv', index=False)"
   ]
  }
 ],
 "metadata": {
  "kaggle": {
   "accelerator": "none",
   "dataSources": [
    {
     "databundleVersionId": 26502,
     "sourceId": 3136,
     "sourceType": "competition"
    }
   ],
   "dockerImageVersionId": 30786,
   "isGpuEnabled": false,
   "isInternetEnabled": false,
   "language": "python",
   "sourceType": "notebook"
  },
  "kernelspec": {
   "display_name": "Python 3",
   "language": "python",
   "name": "python3"
  },
  "language_info": {
   "codemirror_mode": {
    "name": "ipython",
    "version": 3
   },
   "file_extension": ".py",
   "mimetype": "text/x-python",
   "name": "python",
   "nbconvert_exporter": "python",
   "pygments_lexer": "ipython3",
   "version": "3.10.14"
  },
  "papermill": {
   "default_parameters": {},
   "duration": 36.175664,
   "end_time": "2024-11-11T05:44:54.630172",
   "environment_variables": {},
   "exception": null,
   "input_path": "__notebook__.ipynb",
   "output_path": "__notebook__.ipynb",
   "parameters": {},
   "start_time": "2024-11-11T05:44:18.454508",
   "version": "2.6.0"
  }
 },
 "nbformat": 4,
 "nbformat_minor": 5
}
