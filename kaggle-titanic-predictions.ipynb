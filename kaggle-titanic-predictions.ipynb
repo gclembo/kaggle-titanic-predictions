{
 "cells": [
  {
   "cell_type": "code",
   "execution_count": 1,
   "id": "9aafd5aa",
   "metadata": {
    "_cell_guid": "b1076dfc-b9ad-4769-8c92-a6c4dae69d19",
    "_uuid": "8f2839f25d086af736a60e9eeb907d3b93b6e0e5",
    "execution": {
     "iopub.execute_input": "2024-12-27T23:46:20.606761Z",
     "iopub.status.busy": "2024-12-27T23:46:20.606351Z",
     "iopub.status.idle": "2024-12-27T23:46:21.576272Z",
     "shell.execute_reply": "2024-12-27T23:46:21.574956Z"
    },
    "papermill": {
     "duration": 0.980814,
     "end_time": "2024-12-27T23:46:21.578988",
     "exception": false,
     "start_time": "2024-12-27T23:46:20.598174",
     "status": "completed"
    },
    "tags": []
   },
   "outputs": [
    {
     "name": "stdout",
     "output_type": "stream",
     "text": [
      "/kaggle/input/titanic/train.csv\n",
      "/kaggle/input/titanic/test.csv\n",
      "/kaggle/input/titanic/gender_submission.csv\n"
     ]
    }
   ],
   "source": [
    "# This Python 3 environment comes with many helpful analytics libraries installed\n",
    "# It is defined by the kaggle/python Docker image: https://github.com/kaggle/docker-python\n",
    "# For example, here\"s several helpful packages to load\n",
    "\n",
    "import numpy as np # linear algebra\n",
    "import pandas as pd # data processing, CSV file I/O (e.g. pd.read_csv)\n",
    "\n",
    "# Input data files are available in the read-only \"../input/\" directory\n",
    "# For example, running this (by clicking run or pressing Shift+Enter) will list all files under the input directory\n",
    "\n",
    "import os\n",
    "for dirname, _, filenames in os.walk(\"/kaggle/input\"):\n",
    "    for filename in filenames:\n",
    "        print(os.path.join(dirname, filename))\n",
    "\n",
    "# You can write up to 20GB to the current directory (/kaggle/working/) that gets preserved as output when you create a version using \"Save & Run All\" \n",
    "# You can also write temporary files to /kaggle/temp/, but they won\"t be saved outside of the current session"
   ]
  },
  {
   "cell_type": "markdown",
   "id": "9742541e",
   "metadata": {
    "papermill": {
     "duration": 0.005848,
     "end_time": "2024-12-27T23:46:21.590844",
     "exception": false,
     "start_time": "2024-12-27T23:46:21.584996",
     "status": "completed"
    },
    "tags": []
   },
   "source": [
    "## Load Training Data\n"
   ]
  },
  {
   "cell_type": "code",
   "execution_count": 2,
   "id": "863c45c2",
   "metadata": {
    "execution": {
     "iopub.execute_input": "2024-12-27T23:46:21.604150Z",
     "iopub.status.busy": "2024-12-27T23:46:21.603409Z",
     "iopub.status.idle": "2024-12-27T23:46:21.645644Z",
     "shell.execute_reply": "2024-12-27T23:46:21.644545Z"
    },
    "papermill": {
     "duration": 0.05161,
     "end_time": "2024-12-27T23:46:21.648069",
     "exception": false,
     "start_time": "2024-12-27T23:46:21.596459",
     "status": "completed"
    },
    "tags": []
   },
   "outputs": [
    {
     "data": {
      "text/html": [
       "<div>\n",
       "<style scoped>\n",
       "    .dataframe tbody tr th:only-of-type {\n",
       "        vertical-align: middle;\n",
       "    }\n",
       "\n",
       "    .dataframe tbody tr th {\n",
       "        vertical-align: top;\n",
       "    }\n",
       "\n",
       "    .dataframe thead th {\n",
       "        text-align: right;\n",
       "    }\n",
       "</style>\n",
       "<table border=\"1\" class=\"dataframe\">\n",
       "  <thead>\n",
       "    <tr style=\"text-align: right;\">\n",
       "      <th></th>\n",
       "      <th>PassengerId</th>\n",
       "      <th>Survived</th>\n",
       "      <th>Pclass</th>\n",
       "      <th>Name</th>\n",
       "      <th>Sex</th>\n",
       "      <th>Age</th>\n",
       "      <th>SibSp</th>\n",
       "      <th>Parch</th>\n",
       "      <th>Ticket</th>\n",
       "      <th>Fare</th>\n",
       "      <th>Cabin</th>\n",
       "      <th>Embarked</th>\n",
       "    </tr>\n",
       "  </thead>\n",
       "  <tbody>\n",
       "    <tr>\n",
       "      <th>0</th>\n",
       "      <td>1</td>\n",
       "      <td>0</td>\n",
       "      <td>3</td>\n",
       "      <td>Braund, Mr. Owen Harris</td>\n",
       "      <td>male</td>\n",
       "      <td>22.0</td>\n",
       "      <td>1</td>\n",
       "      <td>0</td>\n",
       "      <td>A/5 21171</td>\n",
       "      <td>7.2500</td>\n",
       "      <td>NaN</td>\n",
       "      <td>S</td>\n",
       "    </tr>\n",
       "    <tr>\n",
       "      <th>1</th>\n",
       "      <td>2</td>\n",
       "      <td>1</td>\n",
       "      <td>1</td>\n",
       "      <td>Cumings, Mrs. John Bradley (Florence Briggs Th...</td>\n",
       "      <td>female</td>\n",
       "      <td>38.0</td>\n",
       "      <td>1</td>\n",
       "      <td>0</td>\n",
       "      <td>PC 17599</td>\n",
       "      <td>71.2833</td>\n",
       "      <td>C85</td>\n",
       "      <td>C</td>\n",
       "    </tr>\n",
       "    <tr>\n",
       "      <th>2</th>\n",
       "      <td>3</td>\n",
       "      <td>1</td>\n",
       "      <td>3</td>\n",
       "      <td>Heikkinen, Miss. Laina</td>\n",
       "      <td>female</td>\n",
       "      <td>26.0</td>\n",
       "      <td>0</td>\n",
       "      <td>0</td>\n",
       "      <td>STON/O2. 3101282</td>\n",
       "      <td>7.9250</td>\n",
       "      <td>NaN</td>\n",
       "      <td>S</td>\n",
       "    </tr>\n",
       "    <tr>\n",
       "      <th>3</th>\n",
       "      <td>4</td>\n",
       "      <td>1</td>\n",
       "      <td>1</td>\n",
       "      <td>Futrelle, Mrs. Jacques Heath (Lily May Peel)</td>\n",
       "      <td>female</td>\n",
       "      <td>35.0</td>\n",
       "      <td>1</td>\n",
       "      <td>0</td>\n",
       "      <td>113803</td>\n",
       "      <td>53.1000</td>\n",
       "      <td>C123</td>\n",
       "      <td>S</td>\n",
       "    </tr>\n",
       "    <tr>\n",
       "      <th>4</th>\n",
       "      <td>5</td>\n",
       "      <td>0</td>\n",
       "      <td>3</td>\n",
       "      <td>Allen, Mr. William Henry</td>\n",
       "      <td>male</td>\n",
       "      <td>35.0</td>\n",
       "      <td>0</td>\n",
       "      <td>0</td>\n",
       "      <td>373450</td>\n",
       "      <td>8.0500</td>\n",
       "      <td>NaN</td>\n",
       "      <td>S</td>\n",
       "    </tr>\n",
       "  </tbody>\n",
       "</table>\n",
       "</div>"
      ],
      "text/plain": [
       "   PassengerId  Survived  Pclass  \\\n",
       "0            1         0       3   \n",
       "1            2         1       1   \n",
       "2            3         1       3   \n",
       "3            4         1       1   \n",
       "4            5         0       3   \n",
       "\n",
       "                                                Name     Sex   Age  SibSp  \\\n",
       "0                            Braund, Mr. Owen Harris    male  22.0      1   \n",
       "1  Cumings, Mrs. John Bradley (Florence Briggs Th...  female  38.0      1   \n",
       "2                             Heikkinen, Miss. Laina  female  26.0      0   \n",
       "3       Futrelle, Mrs. Jacques Heath (Lily May Peel)  female  35.0      1   \n",
       "4                           Allen, Mr. William Henry    male  35.0      0   \n",
       "\n",
       "   Parch            Ticket     Fare Cabin Embarked  \n",
       "0      0         A/5 21171   7.2500   NaN        S  \n",
       "1      0          PC 17599  71.2833   C85        C  \n",
       "2      0  STON/O2. 3101282   7.9250   NaN        S  \n",
       "3      0            113803  53.1000  C123        S  \n",
       "4      0            373450   8.0500   NaN        S  "
      ]
     },
     "execution_count": 2,
     "metadata": {},
     "output_type": "execute_result"
    }
   ],
   "source": [
    "train_data = pd.read_csv(\"/kaggle/input/titanic/train.csv\")\n",
    "\n",
    "train_data.head()\n"
   ]
  },
  {
   "cell_type": "markdown",
   "id": "a974570f",
   "metadata": {
    "papermill": {
     "duration": 0.005443,
     "end_time": "2024-12-27T23:46:21.659482",
     "exception": false,
     "start_time": "2024-12-27T23:46:21.654039",
     "status": "completed"
    },
    "tags": []
   },
   "source": [
    "## Data Manipulation"
   ]
  },
  {
   "cell_type": "markdown",
   "id": "e64a8b1b",
   "metadata": {
    "papermill": {
     "duration": 0.005373,
     "end_time": "2024-12-27T23:46:21.671629",
     "exception": false,
     "start_time": "2024-12-27T23:46:21.666256",
     "status": "completed"
    },
    "tags": []
   },
   "source": [
    "I am trying to create some useful features based on the `Name` column. Weather the individual has Mrs. or Mr. in their name may corralate with surviving. Perhaps the name length also makes an impact. People with titles in their names may be more likley to survive. "
   ]
  },
  {
   "cell_type": "code",
   "execution_count": 3,
   "id": "bdf059fe",
   "metadata": {
    "execution": {
     "iopub.execute_input": "2024-12-27T23:46:21.686509Z",
     "iopub.status.busy": "2024-12-27T23:46:21.686108Z",
     "iopub.status.idle": "2024-12-27T23:46:21.743113Z",
     "shell.execute_reply": "2024-12-27T23:46:21.741790Z"
    },
    "papermill": {
     "duration": 0.066827,
     "end_time": "2024-12-27T23:46:21.745680",
     "exception": false,
     "start_time": "2024-12-27T23:46:21.678853",
     "status": "completed"
    },
    "tags": []
   },
   "outputs": [
    {
     "data": {
      "text/html": [
       "<div>\n",
       "<style scoped>\n",
       "    .dataframe tbody tr th:only-of-type {\n",
       "        vertical-align: middle;\n",
       "    }\n",
       "\n",
       "    .dataframe tbody tr th {\n",
       "        vertical-align: top;\n",
       "    }\n",
       "\n",
       "    .dataframe thead th {\n",
       "        text-align: right;\n",
       "    }\n",
       "</style>\n",
       "<table border=\"1\" class=\"dataframe\">\n",
       "  <thead>\n",
       "    <tr style=\"text-align: right;\">\n",
       "      <th></th>\n",
       "      <th>PassengerId</th>\n",
       "      <th>Survived</th>\n",
       "      <th>Pclass</th>\n",
       "      <th>Name</th>\n",
       "      <th>Sex</th>\n",
       "      <th>Age</th>\n",
       "      <th>SibSp</th>\n",
       "      <th>Parch</th>\n",
       "      <th>Ticket</th>\n",
       "      <th>Fare</th>\n",
       "      <th>...</th>\n",
       "      <th>Married</th>\n",
       "      <th>Master</th>\n",
       "      <th>Miss</th>\n",
       "      <th>name_len</th>\n",
       "      <th>fam</th>\n",
       "      <th>cabin_num</th>\n",
       "      <th>cabin_char</th>\n",
       "      <th>ticket_num</th>\n",
       "      <th>log_fare</th>\n",
       "      <th>log_ticket_num</th>\n",
       "    </tr>\n",
       "  </thead>\n",
       "  <tbody>\n",
       "    <tr>\n",
       "      <th>0</th>\n",
       "      <td>1</td>\n",
       "      <td>0</td>\n",
       "      <td>3</td>\n",
       "      <td>Braund, Mr. Owen Harris</td>\n",
       "      <td>male</td>\n",
       "      <td>22.0</td>\n",
       "      <td>1</td>\n",
       "      <td>0</td>\n",
       "      <td>A/5 21171</td>\n",
       "      <td>7.2500</td>\n",
       "      <td>...</td>\n",
       "      <td>True</td>\n",
       "      <td>False</td>\n",
       "      <td>False</td>\n",
       "      <td>23</td>\n",
       "      <td>1</td>\n",
       "      <td>&lt;NA&gt;</td>\n",
       "      <td>NaN</td>\n",
       "      <td>21171</td>\n",
       "      <td>2.110213</td>\n",
       "      <td>9.960388</td>\n",
       "    </tr>\n",
       "    <tr>\n",
       "      <th>1</th>\n",
       "      <td>2</td>\n",
       "      <td>1</td>\n",
       "      <td>1</td>\n",
       "      <td>Cumings, Mrs. John Bradley (Florence Briggs Th...</td>\n",
       "      <td>female</td>\n",
       "      <td>38.0</td>\n",
       "      <td>1</td>\n",
       "      <td>0</td>\n",
       "      <td>PC 17599</td>\n",
       "      <td>71.2833</td>\n",
       "      <td>...</td>\n",
       "      <td>True</td>\n",
       "      <td>False</td>\n",
       "      <td>False</td>\n",
       "      <td>51</td>\n",
       "      <td>1</td>\n",
       "      <td>85</td>\n",
       "      <td>C</td>\n",
       "      <td>17599</td>\n",
       "      <td>4.280593</td>\n",
       "      <td>9.775597</td>\n",
       "    </tr>\n",
       "    <tr>\n",
       "      <th>2</th>\n",
       "      <td>3</td>\n",
       "      <td>1</td>\n",
       "      <td>3</td>\n",
       "      <td>Heikkinen, Miss. Laina</td>\n",
       "      <td>female</td>\n",
       "      <td>26.0</td>\n",
       "      <td>0</td>\n",
       "      <td>0</td>\n",
       "      <td>STON/O2. 3101282</td>\n",
       "      <td>7.9250</td>\n",
       "      <td>...</td>\n",
       "      <td>False</td>\n",
       "      <td>False</td>\n",
       "      <td>True</td>\n",
       "      <td>22</td>\n",
       "      <td>0</td>\n",
       "      <td>&lt;NA&gt;</td>\n",
       "      <td>NaN</td>\n",
       "      <td>3101282</td>\n",
       "      <td>2.188856</td>\n",
       "      <td>14.947326</td>\n",
       "    </tr>\n",
       "    <tr>\n",
       "      <th>3</th>\n",
       "      <td>4</td>\n",
       "      <td>1</td>\n",
       "      <td>1</td>\n",
       "      <td>Futrelle, Mrs. Jacques Heath (Lily May Peel)</td>\n",
       "      <td>female</td>\n",
       "      <td>35.0</td>\n",
       "      <td>1</td>\n",
       "      <td>0</td>\n",
       "      <td>113803</td>\n",
       "      <td>53.1000</td>\n",
       "      <td>...</td>\n",
       "      <td>True</td>\n",
       "      <td>False</td>\n",
       "      <td>False</td>\n",
       "      <td>44</td>\n",
       "      <td>1</td>\n",
       "      <td>123</td>\n",
       "      <td>C</td>\n",
       "      <td>113803</td>\n",
       "      <td>3.990834</td>\n",
       "      <td>11.642224</td>\n",
       "    </tr>\n",
       "    <tr>\n",
       "      <th>4</th>\n",
       "      <td>5</td>\n",
       "      <td>0</td>\n",
       "      <td>3</td>\n",
       "      <td>Allen, Mr. William Henry</td>\n",
       "      <td>male</td>\n",
       "      <td>35.0</td>\n",
       "      <td>0</td>\n",
       "      <td>0</td>\n",
       "      <td>373450</td>\n",
       "      <td>8.0500</td>\n",
       "      <td>...</td>\n",
       "      <td>True</td>\n",
       "      <td>False</td>\n",
       "      <td>False</td>\n",
       "      <td>24</td>\n",
       "      <td>0</td>\n",
       "      <td>&lt;NA&gt;</td>\n",
       "      <td>NaN</td>\n",
       "      <td>373450</td>\n",
       "      <td>2.202765</td>\n",
       "      <td>12.830539</td>\n",
       "    </tr>\n",
       "  </tbody>\n",
       "</table>\n",
       "<p>5 rows × 24 columns</p>\n",
       "</div>"
      ],
      "text/plain": [
       "   PassengerId  Survived  Pclass  \\\n",
       "0            1         0       3   \n",
       "1            2         1       1   \n",
       "2            3         1       3   \n",
       "3            4         1       1   \n",
       "4            5         0       3   \n",
       "\n",
       "                                                Name     Sex   Age  SibSp  \\\n",
       "0                            Braund, Mr. Owen Harris    male  22.0      1   \n",
       "1  Cumings, Mrs. John Bradley (Florence Briggs Th...  female  38.0      1   \n",
       "2                             Heikkinen, Miss. Laina  female  26.0      0   \n",
       "3       Futrelle, Mrs. Jacques Heath (Lily May Peel)  female  35.0      1   \n",
       "4                           Allen, Mr. William Henry    male  35.0      0   \n",
       "\n",
       "   Parch            Ticket     Fare  ... Married Master   Miss  name_len  fam  \\\n",
       "0      0         A/5 21171   7.2500  ...    True  False  False        23    1   \n",
       "1      0          PC 17599  71.2833  ...    True  False  False        51    1   \n",
       "2      0  STON/O2. 3101282   7.9250  ...   False  False   True        22    0   \n",
       "3      0            113803  53.1000  ...    True  False  False        44    1   \n",
       "4      0            373450   8.0500  ...    True  False  False        24    0   \n",
       "\n",
       "   cabin_num  cabin_char  ticket_num  log_fare  log_ticket_num  \n",
       "0       <NA>         NaN       21171  2.110213        9.960388  \n",
       "1         85           C       17599  4.280593        9.775597  \n",
       "2       <NA>         NaN     3101282  2.188856       14.947326  \n",
       "3        123           C      113803  3.990834       11.642224  \n",
       "4       <NA>         NaN      373450  2.202765       12.830539  \n",
       "\n",
       "[5 rows x 24 columns]"
      ]
     },
     "execution_count": 3,
     "metadata": {},
     "output_type": "execute_result"
    }
   ],
   "source": [
    "def wrangle_data(df):\n",
    "    df[\"Mrs\"] = df[\"Name\"].str.contains(\"Mrs. \", case=False)\n",
    "    df[\"Mr\"] = df[\"Name\"].str.contains(\"Mr. \", case=False)\n",
    "    df[\"Married\"] =  df[\"Name\"].str.contains(\"Mrs. \", case=False) | df[\"Name\"].str.contains(\"Mr. \", case=False)\n",
    "    df[\"Master\"] = df[\"Name\"].str.contains(\"Master. \", case=False)\n",
    "    df[\"Miss\"] = df[\"Name\"].str.contains(\"Miss. \", case=False)\n",
    "    df[\"name_len\"] = df[\"Name\"].str.len()\n",
    "    df[\"fam\"] = df[\"SibSp\"] + df[\"Parch\"]\n",
    "    df[\"cabin_num\"] = df[\"Cabin\"].str.extract(r\"(\\d+)\")[0].astype(\"Int64\")\n",
    "    df[\"cabin_char\"] = df[\"Cabin\"].str.extract(r\"([A-Z]+)\")\n",
    "    df[\"ticket_num\"] = train_data[\"Ticket\"].str.extract(r\"(\\d\\d+)\")[0].astype(\"Int64\")\n",
    "    df[\"log_fare\"] = np.log(df[\"Fare\"] + 1)\n",
    "    df[\"log_ticket_num\"] = np.log(df[\"ticket_num\"])\n",
    "    return df\n",
    "\n",
    "\n",
    "train_data = wrangle_data(train_data)\n",
    "train_data.head()\n"
   ]
  },
  {
   "cell_type": "markdown",
   "id": "d46b47f3",
   "metadata": {
    "papermill": {
     "duration": 0.005946,
     "end_time": "2024-12-27T23:46:21.758585",
     "exception": false,
     "start_time": "2024-12-27T23:46:21.752639",
     "status": "completed"
    },
    "tags": []
   },
   "source": [
    "## Missing Values\n",
    "\n",
    "We can see age has 177 missing values, Cabin 687, and Embarked 2 so these are the colunms we will want to look at closer. "
   ]
  },
  {
   "cell_type": "code",
   "execution_count": 4,
   "id": "b78dc6ab",
   "metadata": {
    "execution": {
     "iopub.execute_input": "2024-12-27T23:46:21.772366Z",
     "iopub.status.busy": "2024-12-27T23:46:21.771977Z",
     "iopub.status.idle": "2024-12-27T23:46:21.781036Z",
     "shell.execute_reply": "2024-12-27T23:46:21.779729Z"
    },
    "papermill": {
     "duration": 0.019084,
     "end_time": "2024-12-27T23:46:21.783731",
     "exception": false,
     "start_time": "2024-12-27T23:46:21.764647",
     "status": "completed"
    },
    "tags": []
   },
   "outputs": [
    {
     "name": "stdout",
     "output_type": "stream",
     "text": [
      "PassengerId         0\n",
      "Survived            0\n",
      "Pclass              0\n",
      "Name                0\n",
      "Sex                 0\n",
      "Age               177\n",
      "SibSp               0\n",
      "Parch               0\n",
      "Ticket              0\n",
      "Fare                0\n",
      "Cabin             687\n",
      "Embarked            2\n",
      "Mrs                 0\n",
      "Mr                  0\n",
      "Married             0\n",
      "Master              0\n",
      "Miss                0\n",
      "name_len            0\n",
      "fam                 0\n",
      "cabin_num         691\n",
      "cabin_char        687\n",
      "ticket_num          6\n",
      "log_fare            0\n",
      "log_ticket_num      6\n",
      "dtype: int64\n"
     ]
    }
   ],
   "source": [
    "print(train_data.isnull().sum())\n"
   ]
  },
  {
   "cell_type": "markdown",
   "id": "67e84854",
   "metadata": {
    "papermill": {
     "duration": 0.006045,
     "end_time": "2024-12-27T23:46:21.796170",
     "exception": false,
     "start_time": "2024-12-27T23:46:21.790125",
     "status": "completed"
    },
    "tags": []
   },
   "source": [
    "## Creating a Pipeline"
   ]
  },
  {
   "cell_type": "code",
   "execution_count": 5,
   "id": "19fd9327",
   "metadata": {
    "execution": {
     "iopub.execute_input": "2024-12-27T23:46:21.810237Z",
     "iopub.status.busy": "2024-12-27T23:46:21.809889Z",
     "iopub.status.idle": "2024-12-27T23:46:24.085788Z",
     "shell.execute_reply": "2024-12-27T23:46:24.084463Z"
    },
    "papermill": {
     "duration": 2.285758,
     "end_time": "2024-12-27T23:46:24.088216",
     "exception": false,
     "start_time": "2024-12-27T23:46:21.802458",
     "status": "completed"
    },
    "tags": []
   },
   "outputs": [],
   "source": [
    "from sklearn.compose import ColumnTransformer\n",
    "from sklearn.pipeline import Pipeline\n",
    "from sklearn.impute import SimpleImputer \n",
    "from sklearn.preprocessing import OneHotEncoder\n",
    "from category_encoders import TargetEncoder\n",
    "\n",
    "def generate_preprocessor(X):\n",
    "    num_features = X.columns[X.dtypes != \"object\"]\n",
    "    cat_features = X.columns[X.dtypes == \"object\"]\n",
    "    \n",
    "    num_transformer = SimpleImputer(strategy=\"median\").set_output(transform=\"pandas\")\n",
    "    cat_transformer = Pipeline(steps=[\n",
    "        (\"imputer\", SimpleImputer(strategy=\"most_frequent\")),\n",
    "        (\"encoder\", OneHotEncoder(handle_unknown=\"ignore\", sparse_output=False))\n",
    "    ])\n",
    "    \n",
    "    preprocessor = ColumnTransformer(transformers=[\n",
    "        (\"num\", num_transformer, num_features),\n",
    "        (\"cat\", cat_transformer, cat_features)\n",
    "    ]).set_output(transform=\"pandas\")\n",
    "    return preprocessor\n",
    "\n"
   ]
  },
  {
   "cell_type": "markdown",
   "id": "d5db3adc",
   "metadata": {
    "papermill": {
     "duration": 0.005897,
     "end_time": "2024-12-27T23:46:24.100560",
     "exception": false,
     "start_time": "2024-12-27T23:46:24.094663",
     "status": "completed"
    },
    "tags": []
   },
   "source": [
    "## Feature Selection\n",
    "\n",
    "Let\"s see what features seem to be good predictors of if an individual survives. "
   ]
  },
  {
   "cell_type": "markdown",
   "id": "4b8c2d32",
   "metadata": {
    "papermill": {
     "duration": 0.005871,
     "end_time": "2024-12-27T23:46:24.112774",
     "exception": false,
     "start_time": "2024-12-27T23:46:24.106903",
     "status": "completed"
    },
    "tags": []
   },
   "source": [
    "### Mutual Information"
   ]
  },
  {
   "cell_type": "code",
   "execution_count": 6,
   "id": "60d9683b",
   "metadata": {
    "execution": {
     "iopub.execute_input": "2024-12-27T23:46:24.127672Z",
     "iopub.status.busy": "2024-12-27T23:46:24.127120Z",
     "iopub.status.idle": "2024-12-27T23:46:25.049028Z",
     "shell.execute_reply": "2024-12-27T23:46:25.047921Z"
    },
    "papermill": {
     "duration": 0.932221,
     "end_time": "2024-12-27T23:46:25.051250",
     "exception": false,
     "start_time": "2024-12-27T23:46:24.119029",
     "status": "completed"
    },
    "tags": []
   },
   "outputs": [
    {
     "data": {
      "text/plain": [
       "<Axes: xlabel='MI Scores'>"
      ]
     },
     "execution_count": 6,
     "metadata": {},
     "output_type": "execute_result"
    },
    {
     "data": {
      "image/png": "[encoded data removed]",
      "text/plain": [
       "<Figure size 640x480 with 1 Axes>"
      ]
     },
     "metadata": {},
     "output_type": "display_data"
    }
   ],
   "source": [
    "from sklearn.feature_selection import mutual_info_classif\n",
    "import matplotlib.pyplot as plt\n",
    "import seaborn as sns\n",
    "\n",
    "possible_features = [\"Pclass\", \"Sex\", \"Age\", \"SibSp\",\n",
    "       \"Parch\", \"Fare\", \"Embarked\", \"Mrs\", \"Mr\", \"Married\",\n",
    "       \"Master\", \"Miss\", \"name_len\", \"fam\", \"cabin_num\", \"cabin_char\",\n",
    "       \"ticket_num\"]\n",
    "X_feature_sel = train_data[possible_features]\n",
    "y = train_data[\"Survived\"]\n",
    "\n",
    "preprocessor = generate_preprocessor(X_feature_sel)\n",
    "\n",
    "X_clean = preprocessor.fit_transform(X_feature_sel)\n",
    "\n",
    "mi_scores = mutual_info_classif(X_clean, y, random_state=123)\n",
    "mi_scores = pd.Series(mi_scores, name=\"MI Scores\", index=X_clean.columns)\n",
    "mi_scores = mi_scores.sort_values(ascending=False)\n",
    "\n",
    "sns.barplot(x=mi_scores, y=mi_scores.index)\n"
   ]
  },
  {
   "cell_type": "markdown",
   "id": "3ddc5ea2",
   "metadata": {
    "execution": {
     "iopub.execute_input": "2024-12-27T21:41:25.603251Z",
     "iopub.status.busy": "2024-12-27T21:41:25.602167Z",
     "iopub.status.idle": "2024-12-27T21:41:25.607402Z",
     "shell.execute_reply": "2024-12-27T21:41:25.606205Z",
     "shell.execute_reply.started": "2024-12-27T21:41:25.603210Z"
    },
    "papermill": {
     "duration": 0.006974,
     "end_time": "2024-12-27T23:46:25.065369",
     "exception": false,
     "start_time": "2024-12-27T23:46:25.058395",
     "status": "completed"
    },
    "tags": []
   },
   "source": [
    "### Plotting"
   ]
  },
  {
   "cell_type": "code",
   "execution_count": 7,
   "id": "576af512",
   "metadata": {
    "execution": {
     "iopub.execute_input": "2024-12-27T23:46:25.081633Z",
     "iopub.status.busy": "2024-12-27T23:46:25.081055Z",
     "iopub.status.idle": "2024-12-27T23:46:25.795011Z",
     "shell.execute_reply": "2024-12-27T23:46:25.793865Z"
    },
    "jupyter": {
     "source_hidden": true
    },
    "papermill": {
     "duration": 0.72488,
     "end_time": "2024-12-27T23:46:25.797347",
     "exception": false,
     "start_time": "2024-12-27T23:46:25.072467",
     "status": "completed"
    },
    "tags": []
   },
   "outputs": [
    {
     "data": {
      "image/png": "[encoded data removed]",
      "text/plain": [
       "<Figure size 800x600 with 1 Axes>"
      ]
     },
     "metadata": {},
     "output_type": "display_data"
    },
    {
     "data": {
      "image/png": "[encoded data removed]",
      "text/plain": [
       "<Figure size 800x600 with 1 Axes>"
      ]
     },
     "metadata": {},
     "output_type": "display_data"
    },
    {
     "data": {
      "text/plain": [
       "<Axes: xlabel='Survived', ylabel='Fare'>"
      ]
     },
     "execution_count": 7,
     "metadata": {},
     "output_type": "execute_result"
    },
    {
     "data": {
      "image/png": "[encoded data removed]",
      "text/plain": [
       "<Figure size 640x480 with 1 Axes>"
      ]
     },
     "metadata": {},
     "output_type": "display_data"
    }
   ],
   "source": [
    "sex_plot = sns.catplot(data=train_data, x=\"Sex\", y=\"Survived\", kind=\"bar\", errorbar=None)\n",
    "sex_plot.fig.set_size_inches(8, 6)\n",
    "sex_plot.ax.set_title(\"Comparison of Survival and Sex\")\n",
    "sex_plot.ax.set_ylabel(\"Proportion Survived\")\n",
    "\n",
    "mr_plot = sns.catplot(data=train_data, x=\"Married\", y=\"Survived\", kind=\"bar\", errorbar=None)\n",
    "mr_plot.fig.set_size_inches(8, 6)\n",
    "mr_plot.ax.set_title(\"Comparison of Survival and Mr or Mrs in Name\")\n",
    "mr_plot.ax.set_ylabel(\"Proportion Survived\")\n",
    "\n",
    "plt.show()\n",
    "\n",
    "sns.boxplot(data=train_data, y=\"Fare\", x=\"Survived\")"
   ]
  },
  {
   "cell_type": "markdown",
   "id": "83b496f1",
   "metadata": {
    "execution": {
     "iopub.execute_input": "2024-12-27T21:37:49.957537Z",
     "iopub.status.busy": "2024-12-27T21:37:49.957214Z",
     "iopub.status.idle": "2024-12-27T21:37:49.961785Z",
     "shell.execute_reply": "2024-12-27T21:37:49.960816Z",
     "shell.execute_reply.started": "2024-12-27T21:37:49.957507Z"
    },
    "papermill": {
     "duration": 0.008091,
     "end_time": "2024-12-27T23:46:25.814206",
     "exception": false,
     "start_time": "2024-12-27T23:46:25.806115",
     "status": "completed"
    },
    "tags": []
   },
   "source": [
    "### Correlation \n",
    "\n",
    "Let's look at the correlation between features. From this we can see a few variables that are stronly or moderatly correlated.\n",
    "\n",
    "fare - Pclass\n",
    "fam - Parch\n",
    "fam - SibSp\n",
    "name_len - Mrs \n",
    "Married - Mr \n",
    "Miss - Mr\n",
    "Miss - Married\n",
    "\n",
    "I am going to remove SibSp and Parch because the fam variable uses thses features and has better mutual information. I am also removing Mr, Mrs, and Miss because they are corraletated with eachother and the Married feature which seems more important.\n"
   ]
  },
  {
   "cell_type": "code",
   "execution_count": 8,
   "id": "d65cfb8d",
   "metadata": {
    "execution": {
     "iopub.execute_input": "2024-12-27T23:46:25.833327Z",
     "iopub.status.busy": "2024-12-27T23:46:25.832939Z",
     "iopub.status.idle": "2024-12-27T23:46:26.347294Z",
     "shell.execute_reply": "2024-12-27T23:46:26.346228Z"
    },
    "papermill": {
     "duration": 0.52709,
     "end_time": "2024-12-27T23:46:26.349708",
     "exception": false,
     "start_time": "2024-12-27T23:46:25.822618",
     "status": "completed"
    },
    "tags": []
   },
   "outputs": [
    {
     "data": {
      "text/plain": [
       "<Axes: >"
      ]
     },
     "execution_count": 8,
     "metadata": {},
     "output_type": "execute_result"
    },
    {
     "data": {
      "image/png": "[encoded data removed]",
      "text/plain": [
       "<Figure size 640x480 with 2 Axes>"
      ]
     },
     "metadata": {},
     "output_type": "display_data"
    }
   ],
   "source": [
    "cor_tab = X_feature_sel.select_dtypes(exclude=\"object\").corr()\n",
    "sns.heatmap(cor_tab.abs())"
   ]
  },
  {
   "cell_type": "markdown",
   "id": "60b4371f",
   "metadata": {
    "papermill": {
     "duration": 0.00856,
     "end_time": "2024-12-27T23:46:26.367340",
     "exception": false,
     "start_time": "2024-12-27T23:46:26.358780",
     "status": "completed"
    },
    "tags": []
   },
   "source": [
    "## Split Data"
   ]
  },
  {
   "cell_type": "code",
   "execution_count": 9,
   "id": "381dc2fe",
   "metadata": {
    "execution": {
     "iopub.execute_input": "2024-12-27T23:46:26.387012Z",
     "iopub.status.busy": "2024-12-27T23:46:26.386621Z",
     "iopub.status.idle": "2024-12-27T23:46:26.425988Z",
     "shell.execute_reply": "2024-12-27T23:46:26.424786Z"
    },
    "papermill": {
     "duration": 0.052156,
     "end_time": "2024-12-27T23:46:26.428535",
     "exception": false,
     "start_time": "2024-12-27T23:46:26.376379",
     "status": "completed"
    },
    "tags": []
   },
   "outputs": [],
   "source": [
    "from sklearn.model_selection import train_test_split\n",
    "\n",
    "y = train_data[\"Survived\"]\n",
    "\n",
    "features = [\"Pclass\", \"Sex\", \"Age\", \"Fare\", \"Embarked\", \"Married\",\n",
    "       \"Master\", \"name_len\", \"fam\", \"cabin_num\", \"cabin_char\",\n",
    "       \"ticket_num\"]\n",
    "X = train_data[features]\n",
    "\n",
    "X_train, X_val, y_train, y_val = train_test_split(X, y, random_state=123)\n",
    "\n",
    "preprocessor = generate_preprocessor(X_train)\n",
    "X_train_dummies = preprocessor.fit_transform(X_train, y_train)\n",
    "X_val_dummies = preprocessor.transform(X_val)\n",
    "\n"
   ]
  },
  {
   "cell_type": "markdown",
   "id": "c59fe6b8",
   "metadata": {
    "papermill": {
     "duration": 0.008701,
     "end_time": "2024-12-27T23:46:26.446328",
     "exception": false,
     "start_time": "2024-12-27T23:46:26.437627",
     "status": "completed"
    },
    "tags": []
   },
   "source": [
    "## Model Selection\n",
    "\n",
    "I will try to estimate the best number of estimators and max depth for a Random Forest Classifier. It apears the 150 is the best number of estimators before the score drops off. The max depth around 12 seems to have the largest scores then the values further away. "
   ]
  },
  {
   "cell_type": "code",
   "execution_count": 10,
   "id": "2c766fd2",
   "metadata": {
    "execution": {
     "iopub.execute_input": "2024-12-27T23:46:26.465743Z",
     "iopub.status.busy": "2024-12-27T23:46:26.465340Z",
     "iopub.status.idle": "2024-12-27T23:46:35.782394Z",
     "shell.execute_reply": "2024-12-27T23:46:35.781207Z"
    },
    "papermill": {
     "duration": 9.329743,
     "end_time": "2024-12-27T23:46:35.784904",
     "exception": false,
     "start_time": "2024-12-27T23:46:26.455161",
     "status": "completed"
    },
    "tags": []
   },
   "outputs": [
    {
     "name": "stdout",
     "output_type": "stream",
     "text": [
      "0.7870967741935485\n",
      "0.7870967741935485\n",
      "0.7898089171974523\n",
      "0.7974683544303798\n",
      "0.779874213836478\n",
      "0.7848101265822786\n",
      "0.7875\n",
      "0.8050314465408804\n",
      "0.7974683544303798\n",
      "0.7974683544303798\n",
      "0.7974683544303798\n",
      "0.7974683544303798\n",
      "0.8050314465408804\n"
     ]
    },
    {
     "data": {
      "text/plain": [
       "<Axes: xlabel='Number of Estimators', ylabel='F1 Score'>"
      ]
     },
     "execution_count": 10,
     "metadata": {},
     "output_type": "execute_result"
    },
    {
     "data": {
      "image/png": "[encoded data removed]",
      "text/plain": [
       "<Figure size 1000x600 with 1 Axes>"
      ]
     },
     "metadata": {},
     "output_type": "display_data"
    }
   ],
   "source": [
    "from sklearn.ensemble import RandomForestClassifier\n",
    "from sklearn.metrics import f1_score\n",
    "\n",
    "\n",
    "n = list(range(50, 700, 50))\n",
    "scores = []\n",
    "\n",
    "for i in n:\n",
    "    model = RandomForestClassifier(n_estimators=i, max_depth=10, random_state=123)\n",
    "    model.fit(X_train_dummies, y_train)\n",
    "    train_predictions = model.predict(X_val_dummies)\n",
    "    score = f1_score(y_val, train_predictions)\n",
    "    scores.append(score)\n",
    "    print(score)\n",
    "\n",
    "plt.figure(figsize=(10,6))\n",
    "plt.ylabel(\"F1 Score\")\n",
    "plt.xlabel(\"Number of Estimators\")\n",
    "sns.scatterplot(x=n, y=scores)\n"
   ]
  },
  {
   "cell_type": "code",
   "execution_count": 11,
   "id": "1a802e4b",
   "metadata": {
    "execution": {
     "iopub.execute_input": "2024-12-27T23:46:35.807049Z",
     "iopub.status.busy": "2024-12-27T23:46:35.806639Z",
     "iopub.status.idle": "2024-12-27T23:46:42.023805Z",
     "shell.execute_reply": "2024-12-27T23:46:42.022575Z"
    },
    "papermill": {
     "duration": 6.230774,
     "end_time": "2024-12-27T23:46:42.025983",
     "exception": false,
     "start_time": "2024-12-27T23:46:35.795209",
     "status": "completed"
    },
    "tags": []
   },
   "outputs": [
    {
     "name": "stdout",
     "output_type": "stream",
     "text": [
      "0.7875\n",
      "0.7924528301886793\n",
      "0.7924528301886793\n",
      "0.7848101265822786\n",
      "0.7948717948717949\n",
      "0.7974683544303798\n",
      "0.7948717948717949\n",
      "0.8074534161490684\n",
      "0.7948717948717949\n",
      "0.7924528301886793\n",
      "0.8050314465408804\n",
      "0.8\n",
      "0.7924528301886793\n",
      "0.7741935483870968\n",
      "0.7898089171974523\n"
     ]
    },
    {
     "data": {
      "text/plain": [
       "<Axes: title={'center': 'Score vs Max Depth'}, xlabel='Max Depth', ylabel='F1 Score'>"
      ]
     },
     "execution_count": 11,
     "metadata": {},
     "output_type": "execute_result"
    },
    {
     "data": {
      "image/png": "[encoded data removed]",
      "text/plain": [
       "<Figure size 1000x600 with 1 Axes>"
      ]
     },
     "metadata": {},
     "output_type": "display_data"
    }
   ],
   "source": [
    "n = list(range(5, 20, 1))\n",
    "scores = []\n",
    "\n",
    "for i in n:\n",
    "    model = RandomForestClassifier(n_estimators=200, max_depth=i, random_state=123)\n",
    "    model.fit(X_train_dummies, y_train)\n",
    "    train_predictions = model.predict(X_val_dummies)\n",
    "    score = f1_score(y_val, train_predictions)\n",
    "    scores.append(score)\n",
    "    print(score)\n",
    "\n",
    "plt.figure(figsize=(10,6))\n",
    "plt.title(\"Score vs Max Depth\")\n",
    "plt.ylabel(\"F1 Score\")\n",
    "plt.xlabel(\"Max Depth\")\n",
    "sns.scatterplot(x=n, y=scores)"
   ]
  },
  {
   "cell_type": "markdown",
   "id": "1626c5ea",
   "metadata": {
    "papermill": {
     "duration": 0.01099,
     "end_time": "2024-12-27T23:46:42.048471",
     "exception": false,
     "start_time": "2024-12-27T23:46:42.037481",
     "status": "completed"
    },
    "tags": []
   },
   "source": [
    "## Random Forest Pipeline\n",
    "\n",
    "I have found 250 estimators to perform well with a max depth of 10."
   ]
  },
  {
   "cell_type": "code",
   "execution_count": 12,
   "id": "5921b092",
   "metadata": {
    "execution": {
     "iopub.execute_input": "2024-12-27T23:46:42.072952Z",
     "iopub.status.busy": "2024-12-27T23:46:42.072466Z",
     "iopub.status.idle": "2024-12-27T23:46:42.098891Z",
     "shell.execute_reply": "2024-12-27T23:46:42.097916Z"
    },
    "papermill": {
     "duration": 0.041726,
     "end_time": "2024-12-27T23:46:42.101524",
     "exception": false,
     "start_time": "2024-12-27T23:46:42.059798",
     "status": "completed"
    },
    "tags": []
   },
   "outputs": [],
   "source": [
    "# Load testing data\n",
    "test_data = pd.read_csv(\"/kaggle/input/titanic/test.csv\")\n",
    "test_data = wrangle_data(test_data)\n",
    "\n",
    "model = RandomForestClassifier(n_estimators=250, max_depth=10, random_state=123)\n",
    "forest_pipeline = Pipeline(steps=[\n",
    "    (\"preprocesses\", preprocessor),\n",
    "    (\"model\", model)\n",
    "])\n",
    "\n"
   ]
  },
  {
   "cell_type": "markdown",
   "id": "98da7a9e",
   "metadata": {
    "papermill": {
     "duration": 0.010941,
     "end_time": "2024-12-27T23:46:42.123940",
     "exception": false,
     "start_time": "2024-12-27T23:46:42.112999",
     "status": "completed"
    },
    "tags": []
   },
   "source": [
    "## Forest Model Validation\n",
    "\n",
    "Using cross validation to evaluate random forest model"
   ]
  },
  {
   "cell_type": "code",
   "execution_count": 13,
   "id": "8a37a955",
   "metadata": {
    "execution": {
     "iopub.execute_input": "2024-12-27T23:46:42.148627Z",
     "iopub.status.busy": "2024-12-27T23:46:42.147819Z",
     "iopub.status.idle": "2024-12-27T23:46:44.816325Z",
     "shell.execute_reply": "2024-12-27T23:46:44.815241Z"
    },
    "papermill": {
     "duration": 2.683244,
     "end_time": "2024-12-27T23:46:44.818520",
     "exception": false,
     "start_time": "2024-12-27T23:46:42.135276",
     "status": "completed"
    },
    "tags": []
   },
   "outputs": [
    {
     "name": "stdout",
     "output_type": "stream",
     "text": [
      "Mean f1 score  0.7752702893594241\n"
     ]
    }
   ],
   "source": [
    "from sklearn.model_selection import cross_val_score\n",
    "\n",
    "scores = cross_val_score(\n",
    "    forest_pipeline, train_data, y,\n",
    "    cv=5,\n",
    "    scoring=\"f1\"\n",
    ")\n",
    "\n",
    "print(\"Mean f1 score \", scores.mean())"
   ]
  },
  {
   "cell_type": "markdown",
   "id": "48efb05c",
   "metadata": {
    "papermill": {
     "duration": 0.011148,
     "end_time": "2024-12-27T23:46:44.841140",
     "exception": false,
     "start_time": "2024-12-27T23:46:44.829992",
     "status": "completed"
    },
    "tags": []
   },
   "source": [
    "## Gradient Boosting Pipeline and Validation\n",
    "\n",
    "The Gradient Boosting model performs a bit better than the Random Forest Model. I have found 400 estimators to perform well with a learning rate of 0.05."
   ]
  },
  {
   "cell_type": "code",
   "execution_count": 14,
   "id": "f4f75820",
   "metadata": {
    "execution": {
     "iopub.execute_input": "2024-12-27T23:46:44.866107Z",
     "iopub.status.busy": "2024-12-27T23:46:44.865328Z",
     "iopub.status.idle": "2024-12-27T23:46:48.288349Z",
     "shell.execute_reply": "2024-12-27T23:46:48.287255Z"
    },
    "papermill": {
     "duration": 3.438007,
     "end_time": "2024-12-27T23:46:48.290704",
     "exception": false,
     "start_time": "2024-12-27T23:46:44.852697",
     "status": "completed"
    },
    "tags": []
   },
   "outputs": [
    {
     "name": "stdout",
     "output_type": "stream",
     "text": [
      "0.7893666520097371\n"
     ]
    }
   ],
   "source": [
    "from sklearn.ensemble import GradientBoostingClassifier\n",
    "\n",
    "gradient_model = GradientBoostingClassifier(learning_rate=0.05, n_estimators=400, random_state=123)\n",
    "\n",
    "gradient_pipeline = Pipeline(steps=[\n",
    "    (\"preprocessor\", preprocessor),\n",
    "    (\"model\", gradient_model)\n",
    "])\n",
    "\n",
    "scores = cross_val_score(\n",
    "    gradient_pipeline, train_data, y,\n",
    "    cv=5,\n",
    "    scoring=\"f1\"\n",
    ")\n",
    "\n",
    "print(scores.mean())\n"
   ]
  },
  {
   "cell_type": "markdown",
   "id": "377d0da6",
   "metadata": {
    "papermill": {
     "duration": 0.011274,
     "end_time": "2024-12-27T23:46:48.314357",
     "exception": false,
     "start_time": "2024-12-27T23:46:48.303083",
     "status": "completed"
    },
    "tags": []
   },
   "source": [
    "## Final Submission"
   ]
  },
  {
   "cell_type": "code",
   "execution_count": 15,
   "id": "0a059e2c",
   "metadata": {
    "execution": {
     "iopub.execute_input": "2024-12-27T23:46:48.339117Z",
     "iopub.status.busy": "2024-12-27T23:46:48.338354Z",
     "iopub.status.idle": "2024-12-27T23:46:49.107758Z",
     "shell.execute_reply": "2024-12-27T23:46:49.106733Z"
    },
    "papermill": {
     "duration": 0.784379,
     "end_time": "2024-12-27T23:46:49.110152",
     "exception": false,
     "start_time": "2024-12-27T23:46:48.325773",
     "status": "completed"
    },
    "tags": []
   },
   "outputs": [],
   "source": [
    "gradient_pipeline.fit(train_data, y)\n",
    "\n",
    "predictions = gradient_pipeline.predict(test_data)\n",
    "\n",
    "output = pd.DataFrame({\"PassengerId\" : test_data.PassengerId, \"Survived\": predictions})\n",
    "\n",
    "output.to_csv(\"submission.csv\", index=False)"
   ]
  }
 ],
 "metadata": {
  "kaggle": {
   "accelerator": "none",
   "dataSources": [
    {
     "databundleVersionId": 26502,
     "sourceId": 3136,
     "sourceType": "competition"
    }
   ],
   "dockerImageVersionId": 30786,
   "isGpuEnabled": false,
   "isInternetEnabled": false,
   "language": "python",
   "sourceType": "notebook"
  },
  "kernelspec": {
   "display_name": "Python 3",
   "language": "python",
   "name": "python3"
  },
  "language_info": {
   "codemirror_mode": {
    "name": "ipython",
    "version": 3
   },
   "file_extension": ".py",
   "mimetype": "text/x-python",
   "name": "python",
   "nbconvert_exporter": "python",
   "pygments_lexer": "ipython3",
   "version": "3.10.14"
  },
  "papermill": {
   "default_parameters": {},
   "duration": 32.530151,
   "end_time": "2024-12-27T23:46:49.843143",
   "environment_variables": {},
   "exception": null,
   "input_path": "__notebook__.ipynb",
   "output_path": "__notebook__.ipynb",
   "parameters": {},
   "start_time": "2024-12-27T23:46:17.312992",
   "version": "2.6.0"
  }
 },
 "nbformat": 4,
 "nbformat_minor": 5
}
