{
 "cells": [
  {
   "cell_type": "code",
   "execution_count": 1,
   "id": "d394fa15",
   "metadata": {
    "_cell_guid": "b1076dfc-b9ad-4769-8c92-a6c4dae69d19",
    "_uuid": "8f2839f25d086af736a60e9eeb907d3b93b6e0e5",
    "execution": {
     "iopub.execute_input": "2024-12-27T09:25:30.049552Z",
     "iopub.status.busy": "2024-12-27T09:25:30.049150Z",
     "iopub.status.idle": "2024-12-27T09:25:31.008126Z",
     "shell.execute_reply": "2024-12-27T09:25:31.007032Z"
    },
    "papermill": {
     "duration": 0.968677,
     "end_time": "2024-12-27T09:25:31.010591",
     "exception": false,
     "start_time": "2024-12-27T09:25:30.041914",
     "status": "completed"
    },
    "tags": []
   },
   "outputs": [
    {
     "name": "stdout",
     "output_type": "stream",
     "text": [
      "/kaggle/input/titanic/train.csv\n",
      "/kaggle/input/titanic/test.csv\n",
      "/kaggle/input/titanic/gender_submission.csv\n"
     ]
    }
   ],
   "source": [
    "# This Python 3 environment comes with many helpful analytics libraries installed\n",
    "# It is defined by the kaggle/python Docker image: https://github.com/kaggle/docker-python\n",
    "# For example, here's several helpful packages to load\n",
    "\n",
    "import numpy as np # linear algebra\n",
    "import pandas as pd # data processing, CSV file I/O (e.g. pd.read_csv)\n",
    "\n",
    "# Input data files are available in the read-only \"../input/\" directory\n",
    "# For example, running this (by clicking run or pressing Shift+Enter) will list all files under the input directory\n",
    "\n",
    "import os\n",
    "for dirname, _, filenames in os.walk('/kaggle/input'):\n",
    "    for filename in filenames:\n",
    "        print(os.path.join(dirname, filename))\n",
    "\n",
    "# You can write up to 20GB to the current directory (/kaggle/working/) that gets preserved as output when you create a version using \"Save & Run All\" \n",
    "# You can also write temporary files to /kaggle/temp/, but they won't be saved outside of the current session"
   ]
  },
  {
   "cell_type": "markdown",
   "id": "79fe600e",
   "metadata": {
    "papermill": {
     "duration": 0.005363,
     "end_time": "2024-12-27T09:25:31.021415",
     "exception": false,
     "start_time": "2024-12-27T09:25:31.016052",
     "status": "completed"
    },
    "tags": []
   },
   "source": [
    "## Load Training Data\n"
   ]
  },
  {
   "cell_type": "code",
   "execution_count": 2,
   "id": "d0217237",
   "metadata": {
    "execution": {
     "iopub.execute_input": "2024-12-27T09:25:31.035058Z",
     "iopub.status.busy": "2024-12-27T09:25:31.033637Z",
     "iopub.status.idle": "2024-12-27T09:25:31.074842Z",
     "shell.execute_reply": "2024-12-27T09:25:31.073799Z"
    },
    "papermill": {
     "duration": 0.050317,
     "end_time": "2024-12-27T09:25:31.077140",
     "exception": false,
     "start_time": "2024-12-27T09:25:31.026823",
     "status": "completed"
    },
    "tags": []
   },
   "outputs": [
    {
     "data": {
      "text/html": [
       "<div>\n",
       "<style scoped>\n",
       "    .dataframe tbody tr th:only-of-type {\n",
       "        vertical-align: middle;\n",
       "    }\n",
       "\n",
       "    .dataframe tbody tr th {\n",
       "        vertical-align: top;\n",
       "    }\n",
       "\n",
       "    .dataframe thead th {\n",
       "        text-align: right;\n",
       "    }\n",
       "</style>\n",
       "<table border=\"1\" class=\"dataframe\">\n",
       "  <thead>\n",
       "    <tr style=\"text-align: right;\">\n",
       "      <th></th>\n",
       "      <th>PassengerId</th>\n",
       "      <th>Survived</th>\n",
       "      <th>Pclass</th>\n",
       "      <th>Name</th>\n",
       "      <th>Sex</th>\n",
       "      <th>Age</th>\n",
       "      <th>SibSp</th>\n",
       "      <th>Parch</th>\n",
       "      <th>Ticket</th>\n",
       "      <th>Fare</th>\n",
       "      <th>Cabin</th>\n",
       "      <th>Embarked</th>\n",
       "    </tr>\n",
       "  </thead>\n",
       "  <tbody>\n",
       "    <tr>\n",
       "      <th>0</th>\n",
       "      <td>1</td>\n",
       "      <td>0</td>\n",
       "      <td>3</td>\n",
       "      <td>Braund, Mr. Owen Harris</td>\n",
       "      <td>male</td>\n",
       "      <td>22.0</td>\n",
       "      <td>1</td>\n",
       "      <td>0</td>\n",
       "      <td>A/5 21171</td>\n",
       "      <td>7.2500</td>\n",
       "      <td>NaN</td>\n",
       "      <td>S</td>\n",
       "    </tr>\n",
       "    <tr>\n",
       "      <th>1</th>\n",
       "      <td>2</td>\n",
       "      <td>1</td>\n",
       "      <td>1</td>\n",
       "      <td>Cumings, Mrs. John Bradley (Florence Briggs Th...</td>\n",
       "      <td>female</td>\n",
       "      <td>38.0</td>\n",
       "      <td>1</td>\n",
       "      <td>0</td>\n",
       "      <td>PC 17599</td>\n",
       "      <td>71.2833</td>\n",
       "      <td>C85</td>\n",
       "      <td>C</td>\n",
       "    </tr>\n",
       "    <tr>\n",
       "      <th>2</th>\n",
       "      <td>3</td>\n",
       "      <td>1</td>\n",
       "      <td>3</td>\n",
       "      <td>Heikkinen, Miss. Laina</td>\n",
       "      <td>female</td>\n",
       "      <td>26.0</td>\n",
       "      <td>0</td>\n",
       "      <td>0</td>\n",
       "      <td>STON/O2. 3101282</td>\n",
       "      <td>7.9250</td>\n",
       "      <td>NaN</td>\n",
       "      <td>S</td>\n",
       "    </tr>\n",
       "    <tr>\n",
       "      <th>3</th>\n",
       "      <td>4</td>\n",
       "      <td>1</td>\n",
       "      <td>1</td>\n",
       "      <td>Futrelle, Mrs. Jacques Heath (Lily May Peel)</td>\n",
       "      <td>female</td>\n",
       "      <td>35.0</td>\n",
       "      <td>1</td>\n",
       "      <td>0</td>\n",
       "      <td>113803</td>\n",
       "      <td>53.1000</td>\n",
       "      <td>C123</td>\n",
       "      <td>S</td>\n",
       "    </tr>\n",
       "    <tr>\n",
       "      <th>4</th>\n",
       "      <td>5</td>\n",
       "      <td>0</td>\n",
       "      <td>3</td>\n",
       "      <td>Allen, Mr. William Henry</td>\n",
       "      <td>male</td>\n",
       "      <td>35.0</td>\n",
       "      <td>0</td>\n",
       "      <td>0</td>\n",
       "      <td>373450</td>\n",
       "      <td>8.0500</td>\n",
       "      <td>NaN</td>\n",
       "      <td>S</td>\n",
       "    </tr>\n",
       "  </tbody>\n",
       "</table>\n",
       "</div>"
      ],
      "text/plain": [
       "   PassengerId  Survived  Pclass  \\\n",
       "0            1         0       3   \n",
       "1            2         1       1   \n",
       "2            3         1       3   \n",
       "3            4         1       1   \n",
       "4            5         0       3   \n",
       "\n",
       "                                                Name     Sex   Age  SibSp  \\\n",
       "0                            Braund, Mr. Owen Harris    male  22.0      1   \n",
       "1  Cumings, Mrs. John Bradley (Florence Briggs Th...  female  38.0      1   \n",
       "2                             Heikkinen, Miss. Laina  female  26.0      0   \n",
       "3       Futrelle, Mrs. Jacques Heath (Lily May Peel)  female  35.0      1   \n",
       "4                           Allen, Mr. William Henry    male  35.0      0   \n",
       "\n",
       "   Parch            Ticket     Fare Cabin Embarked  \n",
       "0      0         A/5 21171   7.2500   NaN        S  \n",
       "1      0          PC 17599  71.2833   C85        C  \n",
       "2      0  STON/O2. 3101282   7.9250   NaN        S  \n",
       "3      0            113803  53.1000  C123        S  \n",
       "4      0            373450   8.0500   NaN        S  "
      ]
     },
     "execution_count": 2,
     "metadata": {},
     "output_type": "execute_result"
    }
   ],
   "source": [
    "train_data = pd.read_csv(\"/kaggle/input/titanic/train.csv\")\n",
    "\n",
    "train_data.head()\n"
   ]
  },
  {
   "cell_type": "markdown",
   "id": "d2c7d20a",
   "metadata": {
    "papermill": {
     "duration": 0.005079,
     "end_time": "2024-12-27T09:25:31.087632",
     "exception": false,
     "start_time": "2024-12-27T09:25:31.082553",
     "status": "completed"
    },
    "tags": []
   },
   "source": [
    "## Data Manipulation"
   ]
  },
  {
   "cell_type": "markdown",
   "id": "f75c8aeb",
   "metadata": {
    "papermill": {
     "duration": 0.005335,
     "end_time": "2024-12-27T09:25:31.098620",
     "exception": false,
     "start_time": "2024-12-27T09:25:31.093285",
     "status": "completed"
    },
    "tags": []
   },
   "source": [
    "I am trying to create some useful features based on the `Name` column. Weather the individual has Mrs. or Mr. in their name may corralate with surviving. Perhaps the name length also makes an impact. People with titles in their names may be more likley to survive. "
   ]
  },
  {
   "cell_type": "code",
   "execution_count": 3,
   "id": "cc9cd998",
   "metadata": {
    "execution": {
     "iopub.execute_input": "2024-12-27T09:25:31.113467Z",
     "iopub.status.busy": "2024-12-27T09:25:31.112694Z",
     "iopub.status.idle": "2024-12-27T09:25:31.147454Z",
     "shell.execute_reply": "2024-12-27T09:25:31.146267Z"
    },
    "papermill": {
     "duration": 0.045397,
     "end_time": "2024-12-27T09:25:31.150028",
     "exception": false,
     "start_time": "2024-12-27T09:25:31.104631",
     "status": "completed"
    },
    "tags": []
   },
   "outputs": [
    {
     "data": {
      "text/html": [
       "<div>\n",
       "<style scoped>\n",
       "    .dataframe tbody tr th:only-of-type {\n",
       "        vertical-align: middle;\n",
       "    }\n",
       "\n",
       "    .dataframe tbody tr th {\n",
       "        vertical-align: top;\n",
       "    }\n",
       "\n",
       "    .dataframe thead th {\n",
       "        text-align: right;\n",
       "    }\n",
       "</style>\n",
       "<table border=\"1\" class=\"dataframe\">\n",
       "  <thead>\n",
       "    <tr style=\"text-align: right;\">\n",
       "      <th></th>\n",
       "      <th>PassengerId</th>\n",
       "      <th>Survived</th>\n",
       "      <th>Pclass</th>\n",
       "      <th>Name</th>\n",
       "      <th>Sex</th>\n",
       "      <th>Age</th>\n",
       "      <th>SibSp</th>\n",
       "      <th>Parch</th>\n",
       "      <th>Ticket</th>\n",
       "      <th>Fare</th>\n",
       "      <th>Cabin</th>\n",
       "      <th>Embarked</th>\n",
       "      <th>Mrs</th>\n",
       "      <th>Master</th>\n",
       "      <th>Miss</th>\n",
       "      <th>Mr</th>\n",
       "      <th>name_len</th>\n",
       "      <th>fam</th>\n",
       "      <th>cabin_num</th>\n",
       "      <th>cabin_char</th>\n",
       "    </tr>\n",
       "  </thead>\n",
       "  <tbody>\n",
       "    <tr>\n",
       "      <th>0</th>\n",
       "      <td>1</td>\n",
       "      <td>0</td>\n",
       "      <td>3</td>\n",
       "      <td>Braund, Mr. Owen Harris</td>\n",
       "      <td>male</td>\n",
       "      <td>22.0</td>\n",
       "      <td>1</td>\n",
       "      <td>0</td>\n",
       "      <td>A/5 21171</td>\n",
       "      <td>7.2500</td>\n",
       "      <td>NaN</td>\n",
       "      <td>S</td>\n",
       "      <td>False</td>\n",
       "      <td>False</td>\n",
       "      <td>False</td>\n",
       "      <td>True</td>\n",
       "      <td>23</td>\n",
       "      <td>1</td>\n",
       "      <td>&lt;NA&gt;</td>\n",
       "      <td>NaN</td>\n",
       "    </tr>\n",
       "    <tr>\n",
       "      <th>1</th>\n",
       "      <td>2</td>\n",
       "      <td>1</td>\n",
       "      <td>1</td>\n",
       "      <td>Cumings, Mrs. John Bradley (Florence Briggs Th...</td>\n",
       "      <td>female</td>\n",
       "      <td>38.0</td>\n",
       "      <td>1</td>\n",
       "      <td>0</td>\n",
       "      <td>PC 17599</td>\n",
       "      <td>71.2833</td>\n",
       "      <td>C85</td>\n",
       "      <td>C</td>\n",
       "      <td>True</td>\n",
       "      <td>False</td>\n",
       "      <td>False</td>\n",
       "      <td>False</td>\n",
       "      <td>51</td>\n",
       "      <td>1</td>\n",
       "      <td>85</td>\n",
       "      <td>C</td>\n",
       "    </tr>\n",
       "    <tr>\n",
       "      <th>2</th>\n",
       "      <td>3</td>\n",
       "      <td>1</td>\n",
       "      <td>3</td>\n",
       "      <td>Heikkinen, Miss. Laina</td>\n",
       "      <td>female</td>\n",
       "      <td>26.0</td>\n",
       "      <td>0</td>\n",
       "      <td>0</td>\n",
       "      <td>STON/O2. 3101282</td>\n",
       "      <td>7.9250</td>\n",
       "      <td>NaN</td>\n",
       "      <td>S</td>\n",
       "      <td>False</td>\n",
       "      <td>False</td>\n",
       "      <td>True</td>\n",
       "      <td>False</td>\n",
       "      <td>22</td>\n",
       "      <td>0</td>\n",
       "      <td>&lt;NA&gt;</td>\n",
       "      <td>NaN</td>\n",
       "    </tr>\n",
       "    <tr>\n",
       "      <th>3</th>\n",
       "      <td>4</td>\n",
       "      <td>1</td>\n",
       "      <td>1</td>\n",
       "      <td>Futrelle, Mrs. Jacques Heath (Lily May Peel)</td>\n",
       "      <td>female</td>\n",
       "      <td>35.0</td>\n",
       "      <td>1</td>\n",
       "      <td>0</td>\n",
       "      <td>113803</td>\n",
       "      <td>53.1000</td>\n",
       "      <td>C123</td>\n",
       "      <td>S</td>\n",
       "      <td>True</td>\n",
       "      <td>False</td>\n",
       "      <td>False</td>\n",
       "      <td>False</td>\n",
       "      <td>44</td>\n",
       "      <td>1</td>\n",
       "      <td>123</td>\n",
       "      <td>C</td>\n",
       "    </tr>\n",
       "    <tr>\n",
       "      <th>4</th>\n",
       "      <td>5</td>\n",
       "      <td>0</td>\n",
       "      <td>3</td>\n",
       "      <td>Allen, Mr. William Henry</td>\n",
       "      <td>male</td>\n",
       "      <td>35.0</td>\n",
       "      <td>0</td>\n",
       "      <td>0</td>\n",
       "      <td>373450</td>\n",
       "      <td>8.0500</td>\n",
       "      <td>NaN</td>\n",
       "      <td>S</td>\n",
       "      <td>False</td>\n",
       "      <td>False</td>\n",
       "      <td>False</td>\n",
       "      <td>True</td>\n",
       "      <td>24</td>\n",
       "      <td>0</td>\n",
       "      <td>&lt;NA&gt;</td>\n",
       "      <td>NaN</td>\n",
       "    </tr>\n",
       "  </tbody>\n",
       "</table>\n",
       "</div>"
      ],
      "text/plain": [
       "   PassengerId  Survived  Pclass  \\\n",
       "0            1         0       3   \n",
       "1            2         1       1   \n",
       "2            3         1       3   \n",
       "3            4         1       1   \n",
       "4            5         0       3   \n",
       "\n",
       "                                                Name     Sex   Age  SibSp  \\\n",
       "0                            Braund, Mr. Owen Harris    male  22.0      1   \n",
       "1  Cumings, Mrs. John Bradley (Florence Briggs Th...  female  38.0      1   \n",
       "2                             Heikkinen, Miss. Laina  female  26.0      0   \n",
       "3       Futrelle, Mrs. Jacques Heath (Lily May Peel)  female  35.0      1   \n",
       "4                           Allen, Mr. William Henry    male  35.0      0   \n",
       "\n",
       "   Parch            Ticket     Fare Cabin Embarked    Mrs  Master   Miss  \\\n",
       "0      0         A/5 21171   7.2500   NaN        S  False   False  False   \n",
       "1      0          PC 17599  71.2833   C85        C   True   False  False   \n",
       "2      0  STON/O2. 3101282   7.9250   NaN        S  False   False   True   \n",
       "3      0            113803  53.1000  C123        S   True   False  False   \n",
       "4      0            373450   8.0500   NaN        S  False   False  False   \n",
       "\n",
       "      Mr  name_len  fam  cabin_num cabin_char  \n",
       "0   True        23    1       <NA>        NaN  \n",
       "1  False        51    1         85          C  \n",
       "2  False        22    0       <NA>        NaN  \n",
       "3  False        44    1        123          C  \n",
       "4   True        24    0       <NA>        NaN  "
      ]
     },
     "execution_count": 3,
     "metadata": {},
     "output_type": "execute_result"
    }
   ],
   "source": [
    "def wrangle_data(df):\n",
    "    df[\"Mrs\"] = df[\"Name\"].str.contains(\"Mrs. \", case=False)\n",
    "    df[\"Master\"] = df[\"Name\"].str.contains(\"Master. \", case=False)\n",
    "    df[\"Miss\"] = df[\"Name\"].str.contains(\"Miss. \", case=False)\n",
    "    df[\"Mr\"] = df[\"Name\"].str.contains(\"Mr. \", case=False)\n",
    "    df[\"name_len\"] = df[\"Name\"].str.len()\n",
    "    df[\"fam\"] = df[\"SibSp\"] + df[\"Parch\"]\n",
    "    df[\"cabin_num\"] = df[\"Cabin\"].str.extract(r\"(\\d+)\")[0].astype(\"Int64\")\n",
    "    df[\"cabin_char\"] = df[\"Cabin\"].str.extract(r\"([A-Z]+)\")\n",
    "    return df\n",
    "    \n",
    "train_data = wrangle_data(train_data)\n",
    "train_data.head()"
   ]
  },
  {
   "cell_type": "markdown",
   "id": "e7e96ed3",
   "metadata": {
    "papermill": {
     "duration": 0.005406,
     "end_time": "2024-12-27T09:25:31.161119",
     "exception": false,
     "start_time": "2024-12-27T09:25:31.155713",
     "status": "completed"
    },
    "tags": []
   },
   "source": [
    "## Feature Selection\n",
    "\n",
    "Let's see what features seem to be good predictors of if an individual survives. "
   ]
  },
  {
   "cell_type": "code",
   "execution_count": 4,
   "id": "72c7451e",
   "metadata": {
    "execution": {
     "iopub.execute_input": "2024-12-27T09:25:31.174479Z",
     "iopub.status.busy": "2024-12-27T09:25:31.173639Z",
     "iopub.status.idle": "2024-12-27T09:25:34.300006Z",
     "shell.execute_reply": "2024-12-27T09:25:34.298822Z"
    },
    "papermill": {
     "duration": 3.136655,
     "end_time": "2024-12-27T09:25:34.303467",
     "exception": false,
     "start_time": "2024-12-27T09:25:31.166812",
     "status": "completed"
    },
    "tags": []
   },
   "outputs": [
    {
     "data": {
      "image/png": "[encoded data removed]",
      "text/plain": [
       "<Figure size 800x600 with 1 Axes>"
      ]
     },
     "metadata": {},
     "output_type": "display_data"
    },
    {
     "data": {
      "image/png": "[encoded data removed]",
      "text/plain": [
       "<Figure size 800x600 with 1 Axes>"
      ]
     },
     "metadata": {},
     "output_type": "display_data"
    },
    {
     "data": {
      "image/png": "[encoded data removed]",
      "text/plain": [
       "<Figure size 800x600 with 1 Axes>"
      ]
     },
     "metadata": {},
     "output_type": "display_data"
    },
    {
     "data": {
      "image/png": "[encoded data removed]",
      "text/plain": [
       "<Figure size 800x600 with 1 Axes>"
      ]
     },
     "metadata": {},
     "output_type": "display_data"
    }
   ],
   "source": [
    "import matplotlib.pyplot as plt\n",
    "import seaborn as sns\n",
    "\n",
    "\n",
    "plt.figure(figsize=(8, 6))\n",
    "plt.title(\"Comparison of Survival and Name Length\")\n",
    "sns.boxplot(data=train_data, x=\"Survived\", y=\"name_len\")\n",
    "\n",
    "class_plot = sns.catplot(data=train_data, x=\"Pclass\", y=\"Survived\", kind=\"bar\", errorbar=None)\n",
    "class_plot.fig.set_size_inches(8, 6)\n",
    "class_plot.ax.set_title(\"Comparison of Survival and Class\")\n",
    "class_plot.ax.set_ylabel(\"Proportion Survived\")\n",
    "class_plot.ax.set_xlabel(\"Class\")\n",
    "\n",
    "sex_plot = sns.catplot(data=train_data, x=\"Sex\", y=\"Survived\", kind=\"bar\", errorbar=None)\n",
    "sex_plot.fig.set_size_inches(8, 6)\n",
    "sex_plot.ax.set_title(\"Comparison of Survival and Sex\")\n",
    "sex_plot.ax.set_ylabel(\"Proportion Survived\")\n",
    "\n",
    "\n",
    "mr_plot = sns.catplot(data=train_data.loc[train_data.Sex == \"male\"], x=\"Mr\", y=\"Survived\", kind=\"bar\", errorbar=None)\n",
    "mr_plot.fig.set_size_inches(8, 6)\n",
    "mr_plot.ax.set_title(\"Comparison of Survival and and Men with 'Mr' in Name\")\n",
    "mr_plot.ax.set_ylabel(\"Proportion Survived\")\n",
    "\n",
    "plt.show()\n",
    "\n"
   ]
  },
  {
   "cell_type": "markdown",
   "id": "540dbbe8",
   "metadata": {
    "papermill": {
     "duration": 0.012681,
     "end_time": "2024-12-27T09:25:34.330441",
     "exception": false,
     "start_time": "2024-12-27T09:25:34.317760",
     "status": "completed"
    },
    "tags": []
   },
   "source": [
    "## Split Data"
   ]
  },
  {
   "cell_type": "code",
   "execution_count": 5,
   "id": "67fc4928",
   "metadata": {
    "execution": {
     "iopub.execute_input": "2024-12-27T09:25:34.359175Z",
     "iopub.status.busy": "2024-12-27T09:25:34.357716Z",
     "iopub.status.idle": "2024-12-27T09:25:34.655560Z",
     "shell.execute_reply": "2024-12-27T09:25:34.654445Z"
    },
    "papermill": {
     "duration": 0.315459,
     "end_time": "2024-12-27T09:25:34.658803",
     "exception": false,
     "start_time": "2024-12-27T09:25:34.343344",
     "status": "completed"
    },
    "tags": []
   },
   "outputs": [],
   "source": [
    "from sklearn.model_selection import train_test_split\n",
    "\n",
    "y = train_data[\"Survived\"]\n",
    "\n",
    "features = [\"Pclass\", \"Sex\", \"Age\", \"SibSp\", \"Parch\", \"Fare\", \n",
    "            \"Embarked\", \"Mrs\", \"Mr\", \"Miss\", \"name_len\", \"fam\", \"cabin_char\"]\n",
    "X = train_data[features]\n",
    "\n",
    "X_train, X_val, y_train, y_val = train_test_split(X, y, random_state=123)\n"
   ]
  },
  {
   "cell_type": "markdown",
   "id": "a9570677",
   "metadata": {
    "papermill": {
     "duration": 0.009364,
     "end_time": "2024-12-27T09:25:34.681258",
     "exception": false,
     "start_time": "2024-12-27T09:25:34.671894",
     "status": "completed"
    },
    "tags": []
   },
   "source": [
    "## Missing Values\n",
    "\n",
    "We can see age has 177 missing values, Cabin 687, and Embarked 2 so these are the colunms we will want to look at closer. "
   ]
  },
  {
   "cell_type": "code",
   "execution_count": 6,
   "id": "a6df7d02",
   "metadata": {
    "execution": {
     "iopub.execute_input": "2024-12-27T09:25:34.708433Z",
     "iopub.status.busy": "2024-12-27T09:25:34.708017Z",
     "iopub.status.idle": "2024-12-27T09:25:34.717126Z",
     "shell.execute_reply": "2024-12-27T09:25:34.716070Z"
    },
    "papermill": {
     "duration": 0.028338,
     "end_time": "2024-12-27T09:25:34.722727",
     "exception": false,
     "start_time": "2024-12-27T09:25:34.694389",
     "status": "completed"
    },
    "tags": []
   },
   "outputs": [
    {
     "name": "stdout",
     "output_type": "stream",
     "text": [
      "PassengerId      0\n",
      "Survived         0\n",
      "Pclass           0\n",
      "Name             0\n",
      "Sex              0\n",
      "Age            177\n",
      "SibSp            0\n",
      "Parch            0\n",
      "Ticket           0\n",
      "Fare             0\n",
      "Cabin          687\n",
      "Embarked         2\n",
      "Mrs              0\n",
      "Master           0\n",
      "Miss             0\n",
      "Mr               0\n",
      "name_len         0\n",
      "fam              0\n",
      "cabin_num      691\n",
      "cabin_char     687\n",
      "dtype: int64\n"
     ]
    }
   ],
   "source": [
    "print(train_data.isnull().sum())\n"
   ]
  },
  {
   "cell_type": "markdown",
   "id": "e0b160e4",
   "metadata": {
    "papermill": {
     "duration": 0.007153,
     "end_time": "2024-12-27T09:25:34.739011",
     "exception": false,
     "start_time": "2024-12-27T09:25:34.731858",
     "status": "completed"
    },
    "tags": []
   },
   "source": [
    "## Age \n",
    "\n",
    "From the plot below we can see there is some skewness  in the distributions of Age so I am going to fill missing values using the median."
   ]
  },
  {
   "cell_type": "code",
   "execution_count": 7,
   "id": "e75a99dc",
   "metadata": {
    "execution": {
     "iopub.execute_input": "2024-12-27T09:25:34.756881Z",
     "iopub.status.busy": "2024-12-27T09:25:34.756475Z",
     "iopub.status.idle": "2024-12-27T09:25:35.124844Z",
     "shell.execute_reply": "2024-12-27T09:25:35.123565Z"
    },
    "papermill": {
     "duration": 0.380523,
     "end_time": "2024-12-27T09:25:35.127122",
     "exception": false,
     "start_time": "2024-12-27T09:25:34.746599",
     "status": "completed"
    },
    "tags": []
   },
   "outputs": [
    {
     "name": "stderr",
     "output_type": "stream",
     "text": [
      "/opt/conda/lib/python3.10/site-packages/seaborn/_oldcore.py:1119: FutureWarning: use_inf_as_na option is deprecated and will be removed in a future version. Convert inf values to NaN before operating instead.\n",
      "  with pd.option_context('mode.use_inf_as_na', True):\n"
     ]
    },
    {
     "data": {
      "text/plain": [
       "<Axes: title={'center': 'Distribution of Ages in Training Data'}, xlabel='Age', ylabel='Count'>"
      ]
     },
     "execution_count": 7,
     "metadata": {},
     "output_type": "execute_result"
    },
    {
     "data": {
      "image/png": "[encoded data removed]",
      "text/plain": [
       "<Figure size 640x480 with 1 Axes>"
      ]
     },
     "metadata": {},
     "output_type": "display_data"
    }
   ],
   "source": [
    "plt.figure()\n",
    "plt.title(\"Distribution of Ages in Training Data\")\n",
    "sns.histplot(x=train_data[\"Age\"], bins=11)\n"
   ]
  },
  {
   "cell_type": "markdown",
   "id": "58a9fd8d",
   "metadata": {
    "papermill": {
     "duration": 0.007861,
     "end_time": "2024-12-27T09:25:35.142781",
     "exception": false,
     "start_time": "2024-12-27T09:25:35.134920",
     "status": "completed"
    },
    "tags": []
   },
   "source": [
    "## Creating a Pipeline"
   ]
  },
  {
   "cell_type": "code",
   "execution_count": 8,
   "id": "f6994da4",
   "metadata": {
    "execution": {
     "iopub.execute_input": "2024-12-27T09:25:35.162222Z",
     "iopub.status.busy": "2024-12-27T09:25:35.161184Z",
     "iopub.status.idle": "2024-12-27T09:25:35.807042Z",
     "shell.execute_reply": "2024-12-27T09:25:35.805780Z"
    },
    "papermill": {
     "duration": 0.658882,
     "end_time": "2024-12-27T09:25:35.809635",
     "exception": false,
     "start_time": "2024-12-27T09:25:35.150753",
     "status": "completed"
    },
    "tags": []
   },
   "outputs": [],
   "source": [
    "from sklearn.compose import ColumnTransformer\n",
    "from sklearn.pipeline import Pipeline\n",
    "from sklearn.impute import SimpleImputer \n",
    "from sklearn.preprocessing import OneHotEncoder\n",
    "from category_encoders import TargetEncoder\n",
    "\n",
    "num_features = X_train.columns[X_train.dtypes != \"object\"]\n",
    "cat_features = X_train.columns[X_train.dtypes == \"object\"]\n",
    "\n",
    "num_transformer = SimpleImputer(strategy=\"median\").set_output(transform=\"pandas\")\n",
    "cat_transformer = Pipeline(steps=[\n",
    "    (\"imputer\", SimpleImputer(strategy=\"most_frequent\")),\n",
    "    (\"encoder\", OneHotEncoder(handle_unknown=\"ignore\", sparse_output=False))\n",
    "])\n",
    "\n",
    "preprocessor = ColumnTransformer(transformers=[\n",
    "    (\"num\", num_transformer, num_features),\n",
    "    (\"cat\", cat_transformer, cat_features)\n",
    "]).set_output(transform=\"pandas\")\n",
    "\n",
    "X_train_dummies = preprocessor.fit_transform(X_train, y_train)\n",
    "X_val_dummies = preprocessor.transform(X_val)\n"
   ]
  },
  {
   "cell_type": "markdown",
   "id": "32de4936",
   "metadata": {
    "papermill": {
     "duration": 0.007836,
     "end_time": "2024-12-27T09:25:35.825847",
     "exception": false,
     "start_time": "2024-12-27T09:25:35.818011",
     "status": "completed"
    },
    "tags": []
   },
   "source": [
    "## Model Selection\n",
    "\n",
    "I will try to estimate the best number of estimators and max depth for a Random Forest Classifier. It apears the 150 is the best number of estimators before the score drops off. The max depth around 12 seems to have the largest scores then the values further away. "
   ]
  },
  {
   "cell_type": "code",
   "execution_count": 9,
   "id": "4246ebe4",
   "metadata": {
    "execution": {
     "iopub.execute_input": "2024-12-27T09:25:35.843623Z",
     "iopub.status.busy": "2024-12-27T09:25:35.843120Z",
     "iopub.status.idle": "2024-12-27T09:25:41.760827Z",
     "shell.execute_reply": "2024-12-27T09:25:41.759603Z"
    },
    "papermill": {
     "duration": 5.929316,
     "end_time": "2024-12-27T09:25:41.762988",
     "exception": false,
     "start_time": "2024-12-27T09:25:35.833672",
     "status": "completed"
    },
    "tags": []
   },
   "outputs": [
    {
     "name": "stdout",
     "output_type": "stream",
     "text": [
      "0.7924528301886793\n",
      "0.7924528301886793\n",
      "0.7924528301886793\n",
      "0.7875\n",
      "0.7875\n",
      "0.7924528301886793\n",
      "0.7924528301886793\n",
      "0.7875\n",
      "0.7875\n",
      "0.7848101265822786\n"
     ]
    },
    {
     "data": {
      "text/plain": [
       "<Axes: xlabel='Number of Estimators', ylabel='F1 Score'>"
      ]
     },
     "execution_count": 9,
     "metadata": {},
     "output_type": "execute_result"
    },
    {
     "data": {
      "image/png": "[encoded data removed]",
      "text/plain": [
       "<Figure size 1000x600 with 1 Axes>"
      ]
     },
     "metadata": {},
     "output_type": "display_data"
    }
   ],
   "source": [
    "from sklearn.ensemble import RandomForestClassifier\n",
    "from sklearn.metrics import f1_score\n",
    "\n",
    "\n",
    "n = list(range(50, 550, 50))\n",
    "scores = []\n",
    "\n",
    "for i in n:\n",
    "    model = RandomForestClassifier(n_estimators=i, max_depth=10, random_state=123)\n",
    "    model.fit(X_train_dummies, y_train)\n",
    "    train_predictions = model.predict(X_val_dummies)\n",
    "    score = f1_score(y_val, train_predictions)\n",
    "    scores.append(score)\n",
    "    print(score)\n",
    "\n",
    "plt.figure(figsize=(10,6))\n",
    "plt.ylabel(\"F1 Score\")\n",
    "plt.xlabel(\"Number of Estimators\")\n",
    "sns.scatterplot(x=n, y=scores)\n"
   ]
  },
  {
   "cell_type": "code",
   "execution_count": 10,
   "id": "533bf0d3",
   "metadata": {
    "execution": {
     "iopub.execute_input": "2024-12-27T09:25:41.782136Z",
     "iopub.status.busy": "2024-12-27T09:25:41.781701Z",
     "iopub.status.idle": "2024-12-27T09:25:46.683596Z",
     "shell.execute_reply": "2024-12-27T09:25:46.682468Z"
    },
    "papermill": {
     "duration": 4.914348,
     "end_time": "2024-12-27T09:25:46.686060",
     "exception": false,
     "start_time": "2024-12-27T09:25:41.771712",
     "status": "completed"
    },
    "tags": []
   },
   "outputs": [
    {
     "name": "stdout",
     "output_type": "stream",
     "text": [
      "0.8\n",
      "0.8024691358024691\n",
      "0.7924528301886793\n",
      "0.7950310559006212\n",
      "0.7950310559006212\n",
      "0.7924528301886793\n",
      "0.7924528301886793\n",
      "0.7950310559006212\n",
      "0.7770700636942677\n",
      "0.7721518987341773\n",
      "0.7721518987341773\n",
      "0.7875\n",
      "0.7721518987341773\n",
      "0.779874213836478\n",
      "0.779874213836478\n"
     ]
    },
    {
     "data": {
      "text/plain": [
       "<Axes: title={'center': 'Score vs Max Depth'}, xlabel='Max Depth', ylabel='F1 Score'>"
      ]
     },
     "execution_count": 10,
     "metadata": {},
     "output_type": "execute_result"
    },
    {
     "data": {
      "image/png": "[encoded data removed]",
      "text/plain": [
       "<Figure size 1000x600 with 1 Axes>"
      ]
     },
     "metadata": {},
     "output_type": "display_data"
    }
   ],
   "source": [
    "n = list(range(5, 20, 1))\n",
    "scores = []\n",
    "\n",
    "for i in n:\n",
    "    model = RandomForestClassifier(n_estimators=150, max_depth=i, random_state=123)\n",
    "    model.fit(X_train_dummies, y_train)\n",
    "    train_predictions = model.predict(X_val_dummies)\n",
    "    score = f1_score(y_val, train_predictions)\n",
    "    scores.append(score)\n",
    "    print(score)\n",
    "\n",
    "plt.figure(figsize=(10,6))\n",
    "plt.title(\"Score vs Max Depth\")\n",
    "plt.ylabel(\"F1 Score\")\n",
    "plt.xlabel(\"Max Depth\")\n",
    "sns.scatterplot(x=n, y=scores)"
   ]
  },
  {
   "cell_type": "markdown",
   "id": "fb20f726",
   "metadata": {
    "papermill": {
     "duration": 0.009545,
     "end_time": "2024-12-27T09:25:46.705834",
     "exception": false,
     "start_time": "2024-12-27T09:25:46.696289",
     "status": "completed"
    },
    "tags": []
   },
   "source": [
    "## Random Forest Pipeline"
   ]
  },
  {
   "cell_type": "code",
   "execution_count": 11,
   "id": "d2c3ad4f",
   "metadata": {
    "execution": {
     "iopub.execute_input": "2024-12-27T09:25:46.727311Z",
     "iopub.status.busy": "2024-12-27T09:25:46.726616Z",
     "iopub.status.idle": "2024-12-27T09:25:46.747929Z",
     "shell.execute_reply": "2024-12-27T09:25:46.746647Z"
    },
    "papermill": {
     "duration": 0.034744,
     "end_time": "2024-12-27T09:25:46.750289",
     "exception": false,
     "start_time": "2024-12-27T09:25:46.715545",
     "status": "completed"
    },
    "tags": []
   },
   "outputs": [
    {
     "name": "stdout",
     "output_type": "stream",
     "text": [
      "Final Model has 150 estimators and a max depth of 6\n"
     ]
    }
   ],
   "source": [
    "# Load testing data\n",
    "test_data = pd.read_csv(\"/kaggle/input/titanic/test.csv\")\n",
    "test_data = wrangle_data(test_data)\n",
    "\n",
    "model = RandomForestClassifier(n_estimators=100, max_depth=6, random_state=123)\n",
    "forest_pipeline = Pipeline(steps=[\n",
    "    (\"preprocesses\", preprocessor),\n",
    "    (\"model\", model)\n",
    "])\n",
    "\n",
    "print(\"Final Model has 150 estimators and a max depth of 6\")"
   ]
  },
  {
   "cell_type": "markdown",
   "id": "5e21a6fd",
   "metadata": {
    "papermill": {
     "duration": 0.009506,
     "end_time": "2024-12-27T09:25:46.769938",
     "exception": false,
     "start_time": "2024-12-27T09:25:46.760432",
     "status": "completed"
    },
    "tags": []
   },
   "source": [
    "## Forest Model Validation\n",
    "\n",
    "Using cross validation to evaluate random forest model"
   ]
  },
  {
   "cell_type": "code",
   "execution_count": 12,
   "id": "6f88b971",
   "metadata": {
    "execution": {
     "iopub.execute_input": "2024-12-27T09:25:46.792868Z",
     "iopub.status.busy": "2024-12-27T09:25:46.792482Z",
     "iopub.status.idle": "2024-12-27T09:25:47.866528Z",
     "shell.execute_reply": "2024-12-27T09:25:47.865408Z"
    },
    "papermill": {
     "duration": 1.089509,
     "end_time": "2024-12-27T09:25:47.869707",
     "exception": false,
     "start_time": "2024-12-27T09:25:46.780198",
     "status": "completed"
    },
    "tags": []
   },
   "outputs": [
    {
     "name": "stdout",
     "output_type": "stream",
     "text": [
      "Mean f1 score  0.7639771136208656\n"
     ]
    }
   ],
   "source": [
    "from sklearn.model_selection import cross_val_score\n",
    "\n",
    "scores = cross_val_score(\n",
    "    forest_pipeline, train_data, y,\n",
    "    cv=5,\n",
    "    scoring=\"f1\"\n",
    ")\n",
    "\n",
    "print(\"Mean f1 score \", scores.mean())"
   ]
  },
  {
   "cell_type": "markdown",
   "id": "bb0bee50",
   "metadata": {
    "papermill": {
     "duration": 0.01082,
     "end_time": "2024-12-27T09:25:47.892545",
     "exception": false,
     "start_time": "2024-12-27T09:25:47.881725",
     "status": "completed"
    },
    "tags": []
   },
   "source": [
    "## Gradient Boosting Pipeline and Validation\n",
    "\n",
    "The Gradient Boosting model performs a bit better than the Random Forest Model. I have found 500 estimators to perform well."
   ]
  },
  {
   "cell_type": "code",
   "execution_count": 13,
   "id": "07deb4aa",
   "metadata": {
    "execution": {
     "iopub.execute_input": "2024-12-27T09:25:47.914671Z",
     "iopub.status.busy": "2024-12-27T09:25:47.914234Z",
     "iopub.status.idle": "2024-12-27T09:25:50.784124Z",
     "shell.execute_reply": "2024-12-27T09:25:50.782831Z"
    },
    "papermill": {
     "duration": 2.883936,
     "end_time": "2024-12-27T09:25:50.786673",
     "exception": false,
     "start_time": "2024-12-27T09:25:47.902737",
     "status": "completed"
    },
    "tags": []
   },
   "outputs": [
    {
     "name": "stdout",
     "output_type": "stream",
     "text": [
      "0.7695406927701072\n"
     ]
    }
   ],
   "source": [
    "from sklearn.ensemble import GradientBoostingClassifier\n",
    "\n",
    "gradient_model = GradientBoostingClassifier(learning_rate=0.1, n_estimators=350, random_state=123)\n",
    "\n",
    "gradient_pipeline = Pipeline(steps=[\n",
    "    (\"preprocessor\", preprocessor),\n",
    "    (\"model\", gradient_model)\n",
    "])\n",
    "\n",
    "scores = cross_val_score(\n",
    "    gradient_pipeline, train_data, y,\n",
    "    cv=5,\n",
    "    scoring=\"f1\"\n",
    ")\n",
    "\n",
    "print(scores.mean())\n"
   ]
  },
  {
   "cell_type": "markdown",
   "id": "2ee02154",
   "metadata": {
    "papermill": {
     "duration": 0.009771,
     "end_time": "2024-12-27T09:25:50.806653",
     "exception": false,
     "start_time": "2024-12-27T09:25:50.796882",
     "status": "completed"
    },
    "tags": []
   },
   "source": [
    "## Final Submission"
   ]
  },
  {
   "cell_type": "code",
   "execution_count": 14,
   "id": "546356b2",
   "metadata": {
    "execution": {
     "iopub.execute_input": "2024-12-27T09:25:50.828173Z",
     "iopub.status.busy": "2024-12-27T09:25:50.827780Z",
     "iopub.status.idle": "2024-12-27T09:25:51.462494Z",
     "shell.execute_reply": "2024-12-27T09:25:51.461588Z"
    },
    "papermill": {
     "duration": 0.648247,
     "end_time": "2024-12-27T09:25:51.464843",
     "exception": false,
     "start_time": "2024-12-27T09:25:50.816596",
     "status": "completed"
    },
    "tags": []
   },
   "outputs": [],
   "source": [
    "gradient_pipeline.fit(train_data, y)\n",
    "\n",
    "predictions = gradient_pipeline.predict(test_data)\n",
    "\n",
    "output = pd.DataFrame({'PassengerId' : test_data.PassengerId, 'Survived': predictions})\n",
    "\n",
    "output.to_csv('submission.csv', index=False)"
   ]
  }
 ],
 "metadata": {
  "kaggle": {
   "accelerator": "none",
   "dataSources": [
    {
     "databundleVersionId": 26502,
     "sourceId": 3136,
     "sourceType": "competition"
    }
   ],
   "dockerImageVersionId": 30786,
   "isGpuEnabled": false,
   "isInternetEnabled": false,
   "language": "python",
   "sourceType": "notebook"
  },
  "kernelspec": {
   "display_name": "Python 3",
   "language": "python",
   "name": "python3"
  },
  "language_info": {
   "codemirror_mode": {
    "name": "ipython",
    "version": 3
   },
   "file_extension": ".py",
   "mimetype": "text/x-python",
   "name": "python",
   "nbconvert_exporter": "python",
   "pygments_lexer": "ipython3",
   "version": "3.10.14"
  },
  "papermill": {
   "default_parameters": {},
   "duration": 25.485422,
   "end_time": "2024-12-27T09:25:52.196122",
   "environment_variables": {},
   "exception": null,
   "input_path": "__notebook__.ipynb",
   "output_path": "__notebook__.ipynb",
   "parameters": {},
   "start_time": "2024-12-27T09:25:26.710700",
   "version": "2.6.0"
  }
 },
 "nbformat": 4,
 "nbformat_minor": 5
}
